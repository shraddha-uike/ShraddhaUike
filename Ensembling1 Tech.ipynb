{
 "cells": [
  {
   "cell_type": "code",
   "execution_count": 1,
   "metadata": {},
   "outputs": [],
   "source": [
    "# diabetes.csv dataset\n",
    "#Ensembling Technique \n",
    "import numpy as np\n",
    "import matplotlib.pyplot as plt\n",
    "import pandas as pd\n",
    "import seaborn as sns\n",
    "import warnings\n",
    "warnings.filterwarnings('ignore')"
   ]
  },
  {
   "cell_type": "code",
   "execution_count": 2,
   "metadata": {},
   "outputs": [
    {
     "data": {
      "text/html": [
       "<div>\n",
       "<style scoped>\n",
       "    .dataframe tbody tr th:only-of-type {\n",
       "        vertical-align: middle;\n",
       "    }\n",
       "\n",
       "    .dataframe tbody tr th {\n",
       "        vertical-align: top;\n",
       "    }\n",
       "\n",
       "    .dataframe thead th {\n",
       "        text-align: right;\n",
       "    }\n",
       "</style>\n",
       "<table border=\"1\" class=\"dataframe\">\n",
       "  <thead>\n",
       "    <tr style=\"text-align: right;\">\n",
       "      <th></th>\n",
       "      <th>Pregnancies</th>\n",
       "      <th>Glucose</th>\n",
       "      <th>BloodPressure</th>\n",
       "      <th>SkinThickness</th>\n",
       "      <th>Insulin</th>\n",
       "      <th>BMI</th>\n",
       "      <th>DiabetesPedigreeFunction</th>\n",
       "      <th>Age</th>\n",
       "      <th>Outcome</th>\n",
       "    </tr>\n",
       "  </thead>\n",
       "  <tbody>\n",
       "    <tr>\n",
       "      <th>0</th>\n",
       "      <td>6</td>\n",
       "      <td>148</td>\n",
       "      <td>72</td>\n",
       "      <td>35</td>\n",
       "      <td>0</td>\n",
       "      <td>33.6</td>\n",
       "      <td>0.627</td>\n",
       "      <td>50</td>\n",
       "      <td>1</td>\n",
       "    </tr>\n",
       "    <tr>\n",
       "      <th>1</th>\n",
       "      <td>1</td>\n",
       "      <td>85</td>\n",
       "      <td>66</td>\n",
       "      <td>29</td>\n",
       "      <td>0</td>\n",
       "      <td>26.6</td>\n",
       "      <td>0.351</td>\n",
       "      <td>31</td>\n",
       "      <td>0</td>\n",
       "    </tr>\n",
       "    <tr>\n",
       "      <th>2</th>\n",
       "      <td>8</td>\n",
       "      <td>183</td>\n",
       "      <td>64</td>\n",
       "      <td>0</td>\n",
       "      <td>0</td>\n",
       "      <td>23.3</td>\n",
       "      <td>0.672</td>\n",
       "      <td>32</td>\n",
       "      <td>1</td>\n",
       "    </tr>\n",
       "    <tr>\n",
       "      <th>3</th>\n",
       "      <td>1</td>\n",
       "      <td>89</td>\n",
       "      <td>66</td>\n",
       "      <td>23</td>\n",
       "      <td>94</td>\n",
       "      <td>28.1</td>\n",
       "      <td>0.167</td>\n",
       "      <td>21</td>\n",
       "      <td>0</td>\n",
       "    </tr>\n",
       "    <tr>\n",
       "      <th>4</th>\n",
       "      <td>0</td>\n",
       "      <td>137</td>\n",
       "      <td>40</td>\n",
       "      <td>35</td>\n",
       "      <td>168</td>\n",
       "      <td>43.1</td>\n",
       "      <td>2.288</td>\n",
       "      <td>33</td>\n",
       "      <td>1</td>\n",
       "    </tr>\n",
       "  </tbody>\n",
       "</table>\n",
       "</div>"
      ],
      "text/plain": [
       "   Pregnancies  Glucose  BloodPressure  SkinThickness  Insulin   BMI  \\\n",
       "0            6      148             72             35        0  33.6   \n",
       "1            1       85             66             29        0  26.6   \n",
       "2            8      183             64              0        0  23.3   \n",
       "3            1       89             66             23       94  28.1   \n",
       "4            0      137             40             35      168  43.1   \n",
       "\n",
       "   DiabetesPedigreeFunction  Age  Outcome  \n",
       "0                     0.627   50        1  \n",
       "1                     0.351   31        0  \n",
       "2                     0.672   32        1  \n",
       "3                     0.167   21        0  \n",
       "4                     2.288   33        1  "
      ]
     },
     "execution_count": 2,
     "metadata": {},
     "output_type": "execute_result"
    }
   ],
   "source": [
    "#To load dataset diabetes.csv\n",
    "df=pd.read_csv(\"diabetes.csv\")\n",
    "#to display first 5 records\n",
    "df.head()"
   ]
  },
  {
   "cell_type": "code",
   "execution_count": 3,
   "metadata": {},
   "outputs": [
    {
     "data": {
      "text/plain": [
       "Pregnancies                 0\n",
       "Glucose                     0\n",
       "BloodPressure               0\n",
       "SkinThickness               0\n",
       "Insulin                     0\n",
       "BMI                         0\n",
       "DiabetesPedigreeFunction    0\n",
       "Age                         0\n",
       "Outcome                     0\n",
       "dtype: int64"
      ]
     },
     "execution_count": 3,
     "metadata": {},
     "output_type": "execute_result"
    }
   ],
   "source": [
    "#first, check null values in given dataset\n",
    "df.isnull().sum()"
   ]
  },
  {
   "cell_type": "code",
   "execution_count": 4,
   "metadata": {},
   "outputs": [
    {
     "name": "stdout",
     "output_type": "stream",
     "text": [
      "<class 'pandas.core.frame.DataFrame'>\n",
      "RangeIndex: 768 entries, 0 to 767\n",
      "Data columns (total 9 columns):\n",
      " #   Column                    Non-Null Count  Dtype  \n",
      "---  ------                    --------------  -----  \n",
      " 0   Pregnancies               768 non-null    int64  \n",
      " 1   Glucose                   768 non-null    int64  \n",
      " 2   BloodPressure             768 non-null    int64  \n",
      " 3   SkinThickness             768 non-null    int64  \n",
      " 4   Insulin                   768 non-null    int64  \n",
      " 5   BMI                       768 non-null    float64\n",
      " 6   DiabetesPedigreeFunction  768 non-null    float64\n",
      " 7   Age                       768 non-null    int64  \n",
      " 8   Outcome                   768 non-null    int64  \n",
      "dtypes: float64(2), int64(7)\n",
      "memory usage: 54.1 KB\n"
     ]
    }
   ],
   "source": [
    "#datatype check\n",
    "df.info()"
   ]
  },
  {
   "cell_type": "code",
   "execution_count": 5,
   "metadata": {},
   "outputs": [],
   "source": [
    "#select Input X and output Y  from given dataset df\n",
    "X=df.drop(\"Outcome\",axis=1) #input features\n",
    "Y=df[\"Outcome\"]#output features"
   ]
  },
  {
   "cell_type": "code",
   "execution_count": 6,
   "metadata": {},
   "outputs": [],
   "source": [
    "#Train_test_split\n",
    "from sklearn.model_selection import train_test_split\n",
    "X_train,X_test,Y_train,Y_test=train_test_split(X,Y,test_size=0.3,random_state=1)"
   ]
  },
  {
   "cell_type": "code",
   "execution_count": 7,
   "metadata": {},
   "outputs": [],
   "source": [
    "#User defined function\n",
    "def create_model(model):\n",
    "    model.fit(X_train,Y_train)  #train the model\n",
    "    Y_pred=model.predict(X_test) #Test the model\n",
    "    print(classification_report(Y_test,Y_pred))\n",
    "    print(\"Confusion Matrix \")\n",
    "    print(confusion_matrix(Y_test,Y_pred))\n",
    "    return model"
   ]
  },
  {
   "cell_type": "code",
   "execution_count": 8,
   "metadata": {},
   "outputs": [],
   "source": [
    "from sklearn.metrics import classification_report\n",
    "from sklearn.metrics import confusion_matrix"
   ]
  },
  {
   "cell_type": "code",
   "execution_count": 9,
   "metadata": {},
   "outputs": [],
   "source": [
    "#Ensembling Technique apply :-\n",
    "#1. Naive Aggregation\n",
    "#A. Hard Voting : -\n",
    "\n",
    "#we take 3 types of classification algorithm to train the dataset\n",
    "#1. Logistic regression  2. Decision tree(Gini index) 3. DecisionTree(Entropy) \n",
    "#call Logistic regression class\n",
    "from sklearn.linear_model import LogisticRegression\n",
    "#call decisiontreeclassifier class\n",
    "from sklearn.tree import DecisionTreeClassifier  #DecisionTreeClassifier inbuilt class"
   ]
  },
  {
   "cell_type": "code",
   "execution_count": 10,
   "metadata": {},
   "outputs": [],
   "source": [
    "#create object of LogisticRegression\n",
    "lr=LogisticRegression()\n",
    "#create object of DecisionTreeClassifier with gini index\n",
    "dt1=DecisionTreeClassifier() #befault gini index\n",
    "#create object of DecisionTreeClassifier with entropy\n",
    "dt2=DecisionTreeClassifier(criterion=\"entropy\")"
   ]
  },
  {
   "cell_type": "code",
   "execution_count": 11,
   "metadata": {},
   "outputs": [
    {
     "data": {
      "text/plain": [
       "'A List consists of multiple tuples and each tuples the first argument has to be a string \\nthat is a name of the model and second argument has to be a object of model(algorithm)'"
      ]
     },
     "execution_count": 11,
     "metadata": {},
     "output_type": "execute_result"
    }
   ],
   "source": [
    "#Hard voting \n",
    "#begin with simple one first\n",
    "\n",
    "#Create a model list\n",
    "model_list=[(\"Logistic\",lr),(\"DecisionTree-GiniIndex\",dt1),(\"DecisionTree-Entropy\",dt2)]\n",
    "#here model_list is a user defined list object\n",
    "'''A List consists of multiple tuples and each tuples the first argument has to be a string \n",
    "that is a name of the model and second argument has to be a object of model(algorithm)'''"
   ]
  },
  {
   "cell_type": "code",
   "execution_count": 12,
   "metadata": {},
   "outputs": [],
   "source": [
    "#Then we need Naive aggregation\n",
    "#we importing class\n",
    "from sklearn.ensemble import VotingClassifier  #VotingClassifier inbuilt class"
   ]
  },
  {
   "cell_type": "code",
   "execution_count": 13,
   "metadata": {},
   "outputs": [],
   "source": [
    "#create object of VotingClassifier  class\n",
    "vc1=VotingClassifier(estimators=model_list) #here estimators inbuilt parameter of VotingClassifier  \n",
    "#class , here pass the model_list in this parameter \n",
    "#budefault mension hard voting if no define any parameter for hard voting "
   ]
  },
  {
   "cell_type": "code",
   "execution_count": 14,
   "metadata": {},
   "outputs": [
    {
     "name": "stdout",
     "output_type": "stream",
     "text": [
      "              precision    recall  f1-score   support\n",
      "\n",
      "           0       0.78      0.86      0.82       146\n",
      "           1       0.70      0.59      0.64        85\n",
      "\n",
      "    accuracy                           0.76       231\n",
      "   macro avg       0.74      0.72      0.73       231\n",
      "weighted avg       0.75      0.76      0.75       231\n",
      "\n",
      "Confusion Matrix \n",
      "[[125  21]\n",
      " [ 35  50]]\n"
     ]
    }
   ],
   "source": [
    "#Let call function create_model\n",
    "vc1=create_model(vc1)"
   ]
  },
  {
   "cell_type": "code",
   "execution_count": 15,
   "metadata": {},
   "outputs": [],
   "source": [
    "#soft voting \n",
    "#create object of VotingClassifier  class\n",
    "vc2=VotingClassifier(estimators=model_list,voting=\"soft\")#bydefault voting=\"hard\""
   ]
  },
  {
   "cell_type": "code",
   "execution_count": 16,
   "metadata": {},
   "outputs": [
    {
     "name": "stdout",
     "output_type": "stream",
     "text": [
      "              precision    recall  f1-score   support\n",
      "\n",
      "           0       0.77      0.85      0.81       146\n",
      "           1       0.68      0.55      0.61        85\n",
      "\n",
      "    accuracy                           0.74       231\n",
      "   macro avg       0.72      0.70      0.71       231\n",
      "weighted avg       0.73      0.74      0.73       231\n",
      "\n",
      "Confusion Matrix \n",
      "[[124  22]\n",
      " [ 38  47]]\n"
     ]
    }
   ],
   "source": [
    "#Let call function create_model\n",
    "vc2=create_model(vc2)"
   ]
  },
  {
   "cell_type": "code",
   "execution_count": 17,
   "metadata": {},
   "outputs": [],
   "source": [
    "#2. Bootstrapping\n",
    "#A. Bagging  B. Pasting   C. Random forest\n"
   ]
  },
  {
   "cell_type": "code",
   "execution_count": 18,
   "metadata": {},
   "outputs": [],
   "source": [
    "#1. Bagging : call class BaggingClassifier\n",
    "from sklearn.ensemble import BaggingClassifier"
   ]
  },
  {
   "cell_type": "code",
   "execution_count": 19,
   "metadata": {},
   "outputs": [],
   "source": [
    "#create object of BaggingClassifier inbuilt class\n",
    "bc=BaggingClassifier(LogisticRegression(),n_estimators=10,max_samples=20,random_state=1)\n",
    "#first pass parameter in the function : - we need to pass what type of algorithm be need to use ,suppose \n",
    "#we choose to use Logistic regression algo.\n",
    "#second parameter : - how many algorithm means select n_estimators=10 means we want to \n",
    "#10 logistic regression ,\n",
    "#third parameter : There are 10 logistic regression algo. and each of them will be train on 10\n",
    "#samples may be 100 (10*10=100)"
   ]
  },
  {
   "cell_type": "code",
   "execution_count": 20,
   "metadata": {},
   "outputs": [
    {
     "name": "stdout",
     "output_type": "stream",
     "text": [
      "              precision    recall  f1-score   support\n",
      "\n",
      "           0       0.82      0.86      0.84       146\n",
      "           1       0.73      0.68      0.71        85\n",
      "\n",
      "    accuracy                           0.79       231\n",
      "   macro avg       0.78      0.77      0.77       231\n",
      "weighted avg       0.79      0.79      0.79       231\n",
      "\n",
      "Confusion Matrix \n",
      "[[125  21]\n",
      " [ 27  58]]\n"
     ]
    }
   ],
   "source": [
    "#call function\n",
    "bc=create_model(bc)"
   ]
  },
  {
   "cell_type": "code",
   "execution_count": 21,
   "metadata": {},
   "outputs": [],
   "source": [
    "#Pasting \n",
    "#create object of BaggingClassifier inbuilt class\n",
    "bc1=BaggingClassifier(LogisticRegression(),n_estimators=10,max_samples=50,random_state=1,\n",
    "                      bootstrap=False) #by default bootstrap parameter=True means use Bagging\n",
    "#if pass value in parameter bootstrap=False then use pasting"
   ]
  },
  {
   "cell_type": "code",
   "execution_count": 22,
   "metadata": {},
   "outputs": [
    {
     "name": "stdout",
     "output_type": "stream",
     "text": [
      "              precision    recall  f1-score   support\n",
      "\n",
      "           0       0.79      0.90      0.84       146\n",
      "           1       0.77      0.59      0.67        85\n",
      "\n",
      "    accuracy                           0.78       231\n",
      "   macro avg       0.78      0.74      0.75       231\n",
      "weighted avg       0.78      0.78      0.78       231\n",
      "\n",
      "Confusion Matrix \n",
      "[[131  15]\n",
      " [ 35  50]]\n"
     ]
    }
   ],
   "source": [
    "#call function\n",
    "bc1=create_model(bc1)"
   ]
  },
  {
   "cell_type": "code",
   "execution_count": 30,
   "metadata": {},
   "outputs": [],
   "source": [
    "#4. Stacking : -  This is Ensembling technique\n",
    "#call mlxtend package : StackingClassifier inbuilt class\n",
    "from mlxtend.classifier import StackingClassifier"
   ]
  },
  {
   "cell_type": "code",
   "execution_count": 31,
   "metadata": {},
   "outputs": [],
   "source": [
    "#create object of LogisticRegression\n",
    "lr=LogisticRegression()\n",
    "#create object of DecisionTreeClassifier with gini index\n",
    "dt1=DecisionTreeClassifier() #befault gini index\n",
    "#create object of DecisionTreeClassifier with entropy\n",
    "dt2=DecisionTreeClassifier(criterion=\"entropy\")"
   ]
  },
  {
   "cell_type": "code",
   "execution_count": 32,
   "metadata": {},
   "outputs": [],
   "source": [
    "#Create the model list \n",
    "model_list=[lr,dt1,dt2]\n",
    "#4th class : it is meta classifier : LogisticRegression  , create object  of meta classifier class\n",
    "meta=LogisticRegression()  #it is used for meta classifier "
   ]
  },
  {
   "cell_type": "code",
   "execution_count": 33,
   "metadata": {},
   "outputs": [],
   "source": [
    "#create the object of StackingClassifier class\n",
    "sc=StackingClassifier(classifiers=model_list,meta_classifier=meta)"
   ]
  },
  {
   "cell_type": "code",
   "execution_count": 34,
   "metadata": {},
   "outputs": [
    {
     "name": "stdout",
     "output_type": "stream",
     "text": [
      "              precision    recall  f1-score   support\n",
      "\n",
      "           0       0.77      0.83      0.80       146\n",
      "           1       0.66      0.58      0.62        85\n",
      "\n",
      "    accuracy                           0.74       231\n",
      "   macro avg       0.72      0.70      0.71       231\n",
      "weighted avg       0.73      0.74      0.73       231\n",
      "\n",
      "Confusion Matrix \n",
      "[[121  25]\n",
      " [ 36  49]]\n"
     ]
    }
   ],
   "source": [
    "#Now , we train and test the model and generate classification report and confusion matrix \n",
    "#then call function\n",
    "sc=create_model(sc)"
   ]
  },
  {
   "cell_type": "code",
   "execution_count": 35,
   "metadata": {},
   "outputs": [],
   "source": [
    "#create object of BaggingClassifier inbuilt class but we choose Algo. DecisionTreeClassifier() means\n",
    "#gini index means it is called random forest tree\n",
    "rft=BaggingClassifier(DecisionTreeClassifier(),n_estimators=10,max_samples=2,random_state=1)"
   ]
  },
  {
   "cell_type": "code",
   "execution_count": 36,
   "metadata": {},
   "outputs": [
    {
     "name": "stdout",
     "output_type": "stream",
     "text": [
      "              precision    recall  f1-score   support\n",
      "\n",
      "           0       0.63      1.00      0.77       146\n",
      "           1       0.00      0.00      0.00        85\n",
      "\n",
      "    accuracy                           0.63       231\n",
      "   macro avg       0.32      0.50      0.39       231\n",
      "weighted avg       0.40      0.63      0.49       231\n",
      "\n",
      "Confusion Matrix \n",
      "[[146   0]\n",
      " [ 85   0]]\n"
     ]
    }
   ],
   "source": [
    "#call function\n",
    "rft=create_model(rft)"
   ]
  },
  {
   "cell_type": "code",
   "execution_count": 37,
   "metadata": {},
   "outputs": [],
   "source": [
    "#RandomForestClassifier : inbuilt class for randomforest , call RandomForestClassifier class means\n",
    "#always use decisiontreeclassifier means select imp features from dataset to predict the output\n",
    "from sklearn.ensemble import RandomForestClassifier"
   ]
  },
  {
   "cell_type": "code",
   "execution_count": 38,
   "metadata": {},
   "outputs": [],
   "source": [
    "#create object of RandomForestClassifier class\n",
    "rf=RandomForestClassifier(n_estimators=10,max_features =2,random_state=1)"
   ]
  },
  {
   "cell_type": "code",
   "execution_count": 39,
   "metadata": {},
   "outputs": [
    {
     "name": "stdout",
     "output_type": "stream",
     "text": [
      "              precision    recall  f1-score   support\n",
      "\n",
      "           0       0.80      0.90      0.85       146\n",
      "           1       0.78      0.61      0.68        85\n",
      "\n",
      "    accuracy                           0.79       231\n",
      "   macro avg       0.79      0.75      0.76       231\n",
      "weighted avg       0.79      0.79      0.79       231\n",
      "\n",
      "Confusion Matrix \n",
      "[[131  15]\n",
      " [ 33  52]]\n"
     ]
    }
   ],
   "source": [
    "#call function\n",
    "rf=create_model(rf)"
   ]
  },
  {
   "cell_type": "code",
   "execution_count": null,
   "metadata": {},
   "outputs": [],
   "source": []
  }
 ],
 "metadata": {
  "kernelspec": {
   "display_name": "Python 3",
   "language": "python",
   "name": "python3"
  },
  "language_info": {
   "codemirror_mode": {
    "name": "ipython",
    "version": 3
   },
   "file_extension": ".py",
   "mimetype": "text/x-python",
   "name": "python",
   "nbconvert_exporter": "python",
   "pygments_lexer": "ipython3",
   "version": "3.7.6"
  }
 },
 "nbformat": 4,
 "nbformat_minor": 4
}
