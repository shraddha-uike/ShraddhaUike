{
  "nbformat": 4,
  "nbformat_minor": 0,
  "metadata": {
    "colab": {
      "name": "iris multiclassification_problem.ipynb",
      "provenance": [],
      "collapsed_sections": []
    },
    "kernelspec": {
      "name": "python3",
      "display_name": "Python 3"
    },
    "language_info": {
      "name": "python"
    }
  },
  "cells": [
    {
      "cell_type": "code",
      "metadata": {
        "id": "uwNAUWp20FML"
      },
      "source": [
        "import pandas as pd\n",
        "import numpy as np\n",
        "import matplotlib.pyplot as plt"
      ],
      "execution_count": null,
      "outputs": []
    },
    {
      "cell_type": "code",
      "metadata": {
        "colab": {
          "base_uri": "https://localhost:8080/",
          "height": 195
        },
        "id": "MjzXsW5r2weu",
        "outputId": "d772aafb-f699-40dc-aff2-e63a3c6d4432"
      },
      "source": [
        "df=pd.read_csv(\"/content/drive/MyDrive/Deep learning/iris.csv\")\n",
        "df.head()"
      ],
      "execution_count": null,
      "outputs": [
        {
          "output_type": "execute_result",
          "data": {
            "text/html": [
              "<div>\n",
              "<style scoped>\n",
              "    .dataframe tbody tr th:only-of-type {\n",
              "        vertical-align: middle;\n",
              "    }\n",
              "\n",
              "    .dataframe tbody tr th {\n",
              "        vertical-align: top;\n",
              "    }\n",
              "\n",
              "    .dataframe thead th {\n",
              "        text-align: right;\n",
              "    }\n",
              "</style>\n",
              "<table border=\"1\" class=\"dataframe\">\n",
              "  <thead>\n",
              "    <tr style=\"text-align: right;\">\n",
              "      <th></th>\n",
              "      <th>sepal_length</th>\n",
              "      <th>sepal_width</th>\n",
              "      <th>petal_length</th>\n",
              "      <th>petal_width</th>\n",
              "      <th>species</th>\n",
              "    </tr>\n",
              "  </thead>\n",
              "  <tbody>\n",
              "    <tr>\n",
              "      <th>0</th>\n",
              "      <td>5.1</td>\n",
              "      <td>3.5</td>\n",
              "      <td>1.4</td>\n",
              "      <td>0.2</td>\n",
              "      <td>Iris-setosa</td>\n",
              "    </tr>\n",
              "    <tr>\n",
              "      <th>1</th>\n",
              "      <td>4.9</td>\n",
              "      <td>3.0</td>\n",
              "      <td>1.4</td>\n",
              "      <td>0.2</td>\n",
              "      <td>Iris-setosa</td>\n",
              "    </tr>\n",
              "    <tr>\n",
              "      <th>2</th>\n",
              "      <td>4.7</td>\n",
              "      <td>3.2</td>\n",
              "      <td>1.3</td>\n",
              "      <td>0.2</td>\n",
              "      <td>Iris-setosa</td>\n",
              "    </tr>\n",
              "    <tr>\n",
              "      <th>3</th>\n",
              "      <td>4.6</td>\n",
              "      <td>3.1</td>\n",
              "      <td>1.5</td>\n",
              "      <td>0.2</td>\n",
              "      <td>Iris-setosa</td>\n",
              "    </tr>\n",
              "    <tr>\n",
              "      <th>4</th>\n",
              "      <td>5.0</td>\n",
              "      <td>3.6</td>\n",
              "      <td>1.4</td>\n",
              "      <td>0.2</td>\n",
              "      <td>Iris-setosa</td>\n",
              "    </tr>\n",
              "  </tbody>\n",
              "</table>\n",
              "</div>"
            ],
            "text/plain": [
              "   sepal_length  sepal_width  petal_length  petal_width      species\n",
              "0           5.1          3.5           1.4          0.2  Iris-setosa\n",
              "1           4.9          3.0           1.4          0.2  Iris-setosa\n",
              "2           4.7          3.2           1.3          0.2  Iris-setosa\n",
              "3           4.6          3.1           1.5          0.2  Iris-setosa\n",
              "4           5.0          3.6           1.4          0.2  Iris-setosa"
            ]
          },
          "metadata": {
            "tags": []
          },
          "execution_count": 2
        }
      ]
    },
    {
      "cell_type": "code",
      "metadata": {
        "colab": {
          "base_uri": "https://localhost:8080/",
          "height": 346
        },
        "id": "P3GxiW2C3Xd9",
        "outputId": "fcb6135d-6e7a-4592-883f-efc24c17f83e"
      },
      "source": [
        "print(df[\"species\"].value_counts()) #we want to predict species ,this is target variable\n",
        "\n",
        "#Visualise \n",
        "import seaborn as sns\n",
        "sns.countplot(data=df,x=\"species\")\n",
        "c=df[\"species\"].value_counts()\n",
        "plt.yticks(c)\n",
        "plt.show()"
      ],
      "execution_count": null,
      "outputs": [
        {
          "output_type": "stream",
          "text": [
            "Iris-virginica     50\n",
            "Iris-versicolor    50\n",
            "Iris-setosa        50\n",
            "Name: species, dtype: int64\n"
          ],
          "name": "stdout"
        },
        {
          "output_type": "display_data",
          "data": {
            "image/png": "[encoded data removed]",
            "text/plain": [
              "<Figure size 432x288 with 1 Axes>"
            ]
          },
          "metadata": {
            "tags": [],
            "needs_background": "light"
          }
        }
      ]
    },
    {
      "cell_type": "code",
      "metadata": {
        "colab": {
          "base_uri": "https://localhost:8080/",
          "height": 424
        },
        "id": "c0gO3paS4omu",
        "outputId": "4af1b7d4-07a7-4d1d-9571-7158d41b969a"
      },
      "source": [
        "#Check null value\n",
        "print(df.isnull().sum())\n",
        "\n",
        "#Visualise \n",
        "sns.heatmap(df.isnull())\n",
        "plt.show()"
      ],
      "execution_count": null,
      "outputs": [
        {
          "output_type": "stream",
          "text": [
            "sepal_length    0\n",
            "sepal_width     0\n",
            "petal_length    0\n",
            "petal_width     0\n",
            "species         0\n",
            "dtype: int64\n"
          ],
          "name": "stdout"
        },
        {
          "output_type": "display_data",
          "data": {
            "image/png": "[encoded data removed]",
            "text/plain": [
              "<Figure size 432x288 with 2 Axes>"
            ]
          },
          "metadata": {
            "tags": [],
            "needs_background": "light"
          }
        }
      ]
    },
    {
      "cell_type": "code",
      "metadata": {
        "colab": {
          "base_uri": "https://localhost:8080/"
        },
        "id": "uAcmR1Xf5iSU",
        "outputId": "eea57726-0a8a-4259-9e28-61939cebacd1"
      },
      "source": [
        "df.info()"
      ],
      "execution_count": null,
      "outputs": [
        {
          "output_type": "stream",
          "text": [
            "<class 'pandas.core.frame.DataFrame'>\n",
            "RangeIndex: 150 entries, 0 to 149\n",
            "Data columns (total 5 columns):\n",
            " #   Column        Non-Null Count  Dtype  \n",
            "---  ------        --------------  -----  \n",
            " 0   sepal_length  150 non-null    float64\n",
            " 1   sepal_width   150 non-null    float64\n",
            " 2   petal_length  150 non-null    float64\n",
            " 3   petal_width   150 non-null    float64\n",
            " 4   species       150 non-null    object \n",
            "dtypes: float64(4), object(1)\n",
            "memory usage: 6.0+ KB\n"
          ],
          "name": "stdout"
        }
      ]
    },
    {
      "cell_type": "code",
      "metadata": {
        "colab": {
          "base_uri": "https://localhost:8080/"
        },
        "id": "x0RWUIUI6EMj",
        "outputId": "e907801e-f414-4672-bacd-e7ee27fc150f"
      },
      "source": [
        "#apply Label Encoder on species target column : - means to convert object type data into numeric type\n",
        "from sklearn.preprocessing import LabelEncoder\n",
        "#Create object of LabelEncoder class\n",
        "le=LabelEncoder()\n",
        "df[\"species\"]=le.fit_transform(df[\"species\"])\n",
        "#check\n",
        "df.info()"
      ],
      "execution_count": null,
      "outputs": [
        {
          "output_type": "stream",
          "text": [
            "<class 'pandas.core.frame.DataFrame'>\n",
            "RangeIndex: 150 entries, 0 to 149\n",
            "Data columns (total 5 columns):\n",
            " #   Column        Non-Null Count  Dtype  \n",
            "---  ------        --------------  -----  \n",
            " 0   sepal_length  150 non-null    float64\n",
            " 1   sepal_width   150 non-null    float64\n",
            " 2   petal_length  150 non-null    float64\n",
            " 3   petal_width   150 non-null    float64\n",
            " 4   species       150 non-null    int64  \n",
            "dtypes: float64(4), int64(1)\n",
            "memory usage: 6.0 KB\n"
          ],
          "name": "stdout"
        }
      ]
    },
    {
      "cell_type": "code",
      "metadata": {
        "id": "vetDetJ_8Rjt"
      },
      "source": [
        "#Separate input and output from dataset\n",
        "X=df.drop(\"species\",axis=1)\n",
        "Y=df[\"species\"]"
      ],
      "execution_count": null,
      "outputs": []
    },
    {
      "cell_type": "code",
      "metadata": {
        "id": "1S9rkuGb8wh0"
      },
      "source": [
        "#train test split : 70%-30%\n",
        "from sklearn.model_selection import train_test_split\n",
        "X_train,X_test,Y_train,Y_test=train_test_split(X,Y,test_size=0.3,random_state=1)"
      ],
      "execution_count": null,
      "outputs": []
    },
    {
      "cell_type": "code",
      "metadata": {
        "colab": {
          "base_uri": "https://localhost:8080/"
        },
        "id": "FOJVhQ7D9Vsc",
        "outputId": "98fcf449-e853-4fff-8f1b-81747df0b934"
      },
      "source": [
        "print(X_train.shape)\n",
        "print(Y_train.shape)\n",
        "print(Y_test.shape)"
      ],
      "execution_count": null,
      "outputs": [
        {
          "output_type": "stream",
          "text": [
            "(105, 4)\n",
            "(105,)\n",
            "(45,)\n"
          ],
          "name": "stdout"
        }
      ]
    },
    {
      "cell_type": "code",
      "metadata": {
        "colab": {
          "base_uri": "https://localhost:8080/"
        },
        "id": "nE_BVxjR-YQD",
        "outputId": "d4dc579c-0b19-4fd2-ffe5-1c3e5e166969"
      },
      "source": [
        "print(Y_train.value_counts())\n",
        "print(Y_test.value_counts())"
      ],
      "execution_count": null,
      "outputs": [
        {
          "output_type": "stream",
          "text": [
            "2    37\n",
            "0    36\n",
            "1    32\n",
            "Name: species, dtype: int64\n",
            "1    18\n",
            "0    14\n",
            "2    13\n",
            "Name: species, dtype: int64\n"
          ],
          "name": "stdout"
        }
      ]
    },
    {
      "cell_type": "code",
      "metadata": {
        "id": "EFhfEsvi-dQU"
      },
      "source": [
        "from sklearn.model_selection import train_test_split\n",
        "X_train,X_test,Y_train,Y_test=train_test_split(X,Y,test_size=0.3,random_state=1,stratify=Y)"
      ],
      "execution_count": null,
      "outputs": []
    },
    {
      "cell_type": "code",
      "metadata": {
        "colab": {
          "base_uri": "https://localhost:8080/"
        },
        "id": "Bc6gsIz7-i1k",
        "outputId": "9fa67303-6f09-43ac-cfe4-be8896ef4f4e"
      },
      "source": [
        "print(Y_train.value_counts())\n",
        "print(Y_test.value_counts())"
      ],
      "execution_count": null,
      "outputs": [
        {
          "output_type": "stream",
          "text": [
            "2    35\n",
            "1    35\n",
            "0    35\n",
            "Name: species, dtype: int64\n",
            "2    15\n",
            "1    15\n",
            "0    15\n",
            "Name: species, dtype: int64\n"
          ],
          "name": "stdout"
        }
      ]
    },
    {
      "cell_type": "code",
      "metadata": {
        "id": "qxW7A__k-3Hz"
      },
      "source": [
        "#apply scaling on X_train and X_test data\n",
        "from sklearn.preprocessing import StandardScaler\n",
        "#create the object of StandardScaler class\n",
        "ss=StandardScaler()\n",
        "X_train=ss.fit_transform(X_train)\n",
        "X_test=ss.transform(X_test)"
      ],
      "execution_count": null,
      "outputs": []
    },
    {
      "cell_type": "code",
      "metadata": {
        "colab": {
          "base_uri": "https://localhost:8080/"
        },
        "id": "GD_3JhBaAUlL",
        "outputId": "e789cad5-2a95-48ce-b31c-430e9372a4dc"
      },
      "source": [
        "X_train"
      ],
      "execution_count": null,
      "outputs": [
        {
          "output_type": "execute_result",
          "data": {
            "text/plain": [
              "array([[-0.4301064 ,  2.63118533, -1.33269725, -1.30380366],\n",
              "       [-0.55053619,  0.76918392, -1.16537974, -1.30380366],\n",
              "       [ 0.65376173,  0.30368356,  0.84243039,  1.44465434],\n",
              "       [ 1.0150511 ,  0.53643374,  1.0655204 ,  1.18289644],\n",
              "       [-1.03225536,  0.30368356, -1.44424226, -1.30380366],\n",
              "       [ 1.0150511 ,  0.07093339,  1.0097479 ,  1.57553329],\n",
              "       [ 2.09891923, -0.16181679,  1.56747294,  1.18289644],\n",
              "       [-0.06881702,  2.16568498, -1.44424226, -1.30380366],\n",
              "       [ 1.61720006, -0.16181679,  1.12129291,  0.52850167],\n",
              "       [ 0.89462131, -0.39456697,  0.45202286,  0.13586482],\n",
              "       [-1.03225536, -1.79106803, -0.27301968, -0.25677204],\n",
              "       [-0.79139578, -0.86006732,  0.06161534,  0.26674377],\n",
              "       [-1.39354474,  0.30368356, -1.38846976, -1.30380366],\n",
              "       [ 0.29247235, -0.62731714,  0.50779537,  0.00498586],\n",
              "       [-0.4301064 , -1.32556767,  0.11738784,  0.13586482],\n",
              "       [-0.06881702, -0.86006732,  0.73088538,  0.92113853],\n",
              "       [-1.27311494,  0.76918392, -1.05383474, -1.30380366],\n",
              "       [-1.03225536, -2.48931856, -0.16147468, -0.25677204],\n",
              "       [-0.06881702, -0.86006732,  0.06161534,  0.00498586],\n",
              "       [-1.39354474,  0.30368356, -1.22115225, -1.30380366],\n",
              "       [ 0.41290214, -0.62731714,  0.56356787,  0.79025958],\n",
              "       [ 2.21934902, -1.0928175 ,  1.73479045,  1.44465434],\n",
              "       [ 0.65376173,  0.30368356,  0.39625036,  0.39762272],\n",
              "       [-0.18924682, -0.62731714,  0.39625036,  0.13586482],\n",
              "       [-0.4301064 , -1.55831785,  0.00584283, -0.12589309],\n",
              "       [ 0.53333194,  0.76918392,  1.0097479 ,  1.57553329],\n",
              "       [ 0.29247235, -0.39456697,  0.50779537,  0.26674377],\n",
              "       [ 0.29247235, -1.0928175 ,  1.0097479 ,  0.26674377],\n",
              "       [ 0.77419152, -0.16181679,  1.12129291,  1.31377539],\n",
              "       [-0.06881702, -0.62731714,  0.73088538,  1.57553329],\n",
              "       [-0.18924682, -0.62731714,  0.17316034,  0.13586482],\n",
              "       [-0.91182557,  1.46743445, -1.27692475, -1.04204575],\n",
              "       [ 2.21934902,  1.70018463,  1.62324544,  1.31377539],\n",
              "       [ 0.53333194, -1.32556767,  0.67511288,  0.92113853],\n",
              "       [ 0.17204256, -0.16181679,  0.56356787,  0.79025958],\n",
              "       [ 0.65376173, -0.62731714,  1.0097479 ,  1.18289644],\n",
              "       [ 0.05161277, -0.16181679,  0.22893285,  0.39762272],\n",
              "       [ 2.21934902, -0.62731714,  1.62324544,  1.05201748],\n",
              "       [ 0.65376173,  0.07093339,  0.9539754 ,  0.79025958],\n",
              "       [-0.91182557,  1.70018463, -1.22115225, -1.30380366],\n",
              "       [ 0.53333194, -0.86006732,  0.61934037,  0.79025958],\n",
              "       [-0.79139578,  0.76918392, -1.33269725, -1.30380366],\n",
              "       [ 0.53333194, -0.62731714,  0.73088538,  0.39762272],\n",
              "       [-0.91182557,  1.70018463, -1.05383474, -1.04204575],\n",
              "       [-1.51397453,  1.23468427, -1.55578727, -1.30380366],\n",
              "       [ 0.53333194, -1.32556767,  0.61934037,  0.39762272],\n",
              "       [-1.15268515,  0.07093339, -1.27692475, -1.43468261],\n",
              "       [-1.8752639 , -0.16181679, -1.50001477, -1.43468261],\n",
              "       [ 0.77419152, -0.16181679,  0.9539754 ,  0.79025958],\n",
              "       [ 1.0150511 ,  0.07093339,  0.50779537,  0.39762272],\n",
              "       [-0.18924682,  1.70018463, -1.16537974, -1.17292471],\n",
              "       [-0.18924682, -1.0928175 , -0.16147468, -0.25677204],\n",
              "       [-0.06881702, -0.86006732,  0.17316034, -0.25677204],\n",
              "       [-0.91182557,  0.76918392, -1.27692475, -1.30380366],\n",
              "       [-0.55053619,  1.46743445, -1.27692475, -1.30380366],\n",
              "       [-0.79139578,  1.0019341 , -1.27692475, -1.30380366],\n",
              "       [-0.4301064 , -1.55831785, -0.04992967, -0.25677204],\n",
              "       [ 1.61720006,  1.23468427,  1.28861042,  1.70641225],\n",
              "       [-1.03225536,  1.0019341 , -1.38846976, -1.17292471],\n",
              "       [ 1.25591069,  0.07093339,  0.61934037,  0.39762272],\n",
              "       [-1.75483411, -0.16181679, -1.38846976, -1.30380366],\n",
              "       [ 0.17204256,  0.76918392,  0.39625036,  0.52850167],\n",
              "       [ 1.61720006,  0.30368356,  1.23283791,  0.79025958],\n",
              "       [-1.27311494,  0.07093339, -1.22115225, -1.30380366],\n",
              "       [-1.03225536,  0.53643374, -1.33269725, -1.30380366],\n",
              "       [-0.4301064 , -1.0928175 ,  0.34047786,  0.00498586],\n",
              "       [-0.06881702, -0.86006732,  0.73088538,  0.92113853],\n",
              "       [-0.30967661, -0.39456697, -0.10570217,  0.13586482],\n",
              "       [-0.30967661, -0.16181679,  0.17316034,  0.13586482],\n",
              "       [ 0.05161277,  0.30368356,  0.56356787,  0.79025958],\n",
              "       [ 2.21934902, -0.16181679,  1.28861042,  1.44465434],\n",
              "       [ 0.17204256, -0.39456697,  0.39625036,  0.39762272],\n",
              "       [-0.55053619, -0.16181679,  0.39625036,  0.39762272],\n",
              "       [ 1.25591069,  0.07093339,  0.89820289,  1.18289644],\n",
              "       [ 0.65376173, -0.62731714,  1.0097479 ,  1.31377539],\n",
              "       [ 0.29247235, -0.16181679,  0.45202286,  0.26674377],\n",
              "       [-0.55053619,  0.76918392, -1.27692475, -1.04204575],\n",
              "       [-0.91182557,  0.53643374, -1.16537974, -0.9111668 ],\n",
              "       [ 1.85805965, -0.62731714,  1.28861042,  0.92113853],\n",
              "       [ 0.17204256, -0.86006732,  0.73088538,  0.52850167],\n",
              "       [ 2.46020861,  1.70018463,  1.45592793,  1.05201748],\n",
              "       [ 0.17204256, -2.02381821,  0.67511288,  0.39762272],\n",
              "       [-0.67096598,  1.46743445, -1.27692475, -1.30380366],\n",
              "       [-0.18924682, -0.39456697,  0.22893285,  0.13586482],\n",
              "       [ 0.77419152,  0.30368356,  0.73088538,  1.05201748],\n",
              "       [ 0.53333194,  0.53643374,  1.23283791,  1.70641225],\n",
              "       [-0.91182557,  1.70018463, -1.27692475, -1.17292471],\n",
              "       [-1.03225536,  1.23468427, -1.33269725, -1.30380366],\n",
              "       [ 0.53333194, -0.39456697,  1.0097479 ,  0.79025958],\n",
              "       [-0.91182557,  1.0019341 , -1.33269725, -1.17292471],\n",
              "       [ 1.1354809 ,  0.30368356,  1.17706541,  1.44465434],\n",
              "       [-0.30967661, -1.32556767,  0.06161534, -0.12589309],\n",
              "       [-0.18924682, -0.16181679,  0.22893285,  0.00498586],\n",
              "       [ 0.41290214, -0.39456697,  0.28470535,  0.13586482],\n",
              "       [-0.79139578,  2.39843516, -1.27692475, -1.43468261],\n",
              "       [ 1.0150511 , -0.16181679,  0.78665788,  1.44465434],\n",
              "       [ 0.53333194, -1.79106803,  0.34047786,  0.13586482],\n",
              "       [-0.4301064 ,  1.0019341 , -1.38846976, -1.30380366],\n",
              "       [-1.27311494, -0.16181679, -1.33269725, -1.17292471],\n",
              "       [ 1.0150511 , -0.16181679,  0.67511288,  0.65938063],\n",
              "       [-1.63440432, -1.79106803, -1.38846976, -1.17292471],\n",
              "       [-0.06881702, -1.0928175 ,  0.11738784,  0.00498586],\n",
              "       [-1.03225536,  0.76918392, -1.22115225, -1.04204575],\n",
              "       [-1.51397453,  0.07093339, -1.27692475, -1.30380366],\n",
              "       [-1.75483411,  0.30368356, -1.38846976, -1.30380366]])"
            ]
          },
          "metadata": {
            "tags": []
          },
          "execution_count": 14
        }
      ]
    },
    {
      "cell_type": "code",
      "metadata": {
        "id": "t8MvIpqSAWcV"
      },
      "source": [
        "#Create Neural network architecture DNN (Deep Neural Network)\n",
        "import tensorflow as tf\n",
        "#create object of Sequential  class\n",
        "model=tf.keras.Sequential([\n",
        "            tf.keras.layers.Dense(2,activation='relu',input_shape=(X.shape[1],)), #hidden layer1  \n",
        "             tf.keras.layers.Dense(3,activation='relu'), #second hidden layer\n",
        "              tf.keras.layers.Dense(3,activation='softmax') #output layer          \n",
        "])"
      ],
      "execution_count": null,
      "outputs": []
    },
    {
      "cell_type": "code",
      "metadata": {
        "colab": {
          "base_uri": "https://localhost:8080/"
        },
        "id": "ZBnsP7l4FmDj",
        "outputId": "db6f4a5b-445d-4a86-cb47-a00841c1a2fb"
      },
      "source": [
        "#to display summary of model\n",
        "model.summary()"
      ],
      "execution_count": null,
      "outputs": [
        {
          "output_type": "stream",
          "text": [
            "Model: \"sequential\"\n",
            "_________________________________________________________________\n",
            "Layer (type)                 Output Shape              Param #   \n",
            "=================================================================\n",
            "dense (Dense)                (None, 2)                 10        \n",
            "_________________________________________________________________\n",
            "dense_1 (Dense)              (None, 3)                 9         \n",
            "_________________________________________________________________\n",
            "dense_2 (Dense)              (None, 3)                 12        \n",
            "=================================================================\n",
            "Total params: 31\n",
            "Trainable params: 31\n",
            "Non-trainable params: 0\n",
            "_________________________________________________________________\n"
          ],
          "name": "stdout"
        }
      ]
    },
    {
      "cell_type": "code",
      "metadata": {
        "id": "v7jvkalWFxia"
      },
      "source": [
        "#first Hidden layer : 4*2+2=10\n",
        "#second hidden layer : 2*3+3=9\n",
        "#output layer : 3*3+3=12 \n",
        "#total parameter =31"
      ],
      "execution_count": null,
      "outputs": []
    },
    {
      "cell_type": "code",
      "metadata": {
        "id": "q2ZpxxsKGyFq"
      },
      "source": [
        "#Compile the  model\n",
        "model.compile(optimizer=\"adam\",loss=\"sparse_categorical_crossentropy\",metrics=['accuracy']) \n",
        "#this give loss of training and accuracy of training "
      ],
      "execution_count": null,
      "outputs": []
    },
    {
      "cell_type": "code",
      "metadata": {
        "colab": {
          "base_uri": "https://localhost:8080/"
        },
        "id": "IDi717BkHIfZ",
        "outputId": "79d11c6e-0413-4167-db80-86091fd0b485"
      },
      "source": [
        "#train the model\n",
        "trained_model=model.fit(X_train,Y_train,epochs=50,batch_size=20)"
      ],
      "execution_count": null,
      "outputs": [
        {
          "output_type": "stream",
          "text": [
            "Epoch 1/50\n",
            "6/6 [==============================] - 0s 3ms/step - loss: 1.1395 - accuracy: 0.3429\n",
            "Epoch 2/50\n",
            "6/6 [==============================] - 0s 2ms/step - loss: 1.1235 - accuracy: 0.3143\n",
            "Epoch 3/50\n",
            "6/6 [==============================] - 0s 3ms/step - loss: 1.1088 - accuracy: 0.3143\n",
            "Epoch 4/50\n",
            "6/6 [==============================] - 0s 2ms/step - loss: 1.0950 - accuracy: 0.3143\n",
            "Epoch 5/50\n",
            "6/6 [==============================] - 0s 2ms/step - loss: 1.0823 - accuracy: 0.3238\n",
            "Epoch 6/50\n",
            "6/6 [==============================] - 0s 2ms/step - loss: 1.0710 - accuracy: 0.3143\n",
            "Epoch 7/50\n",
            "6/6 [==============================] - 0s 2ms/step - loss: 1.0594 - accuracy: 0.3143\n",
            "Epoch 8/50\n",
            "6/6 [==============================] - 0s 3ms/step - loss: 1.0502 - accuracy: 0.3333\n",
            "Epoch 9/50\n",
            "6/6 [==============================] - 0s 3ms/step - loss: 1.0407 - accuracy: 0.3429\n",
            "Epoch 10/50\n",
            "6/6 [==============================] - 0s 2ms/step - loss: 1.0318 - accuracy: 0.3714\n",
            "Epoch 11/50\n",
            "6/6 [==============================] - 0s 3ms/step - loss: 1.0241 - accuracy: 0.4476\n",
            "Epoch 12/50\n",
            "6/6 [==============================] - 0s 3ms/step - loss: 1.0153 - accuracy: 0.4476\n",
            "Epoch 13/50\n",
            "6/6 [==============================] - 0s 4ms/step - loss: 1.0078 - accuracy: 0.4476\n",
            "Epoch 14/50\n",
            "6/6 [==============================] - 0s 3ms/step - loss: 1.0005 - accuracy: 0.4571\n",
            "Epoch 15/50\n",
            "6/6 [==============================] - 0s 4ms/step - loss: 0.9940 - accuracy: 0.4667\n",
            "Epoch 16/50\n",
            "6/6 [==============================] - 0s 3ms/step - loss: 0.9875 - accuracy: 0.3524\n",
            "Epoch 17/50\n",
            "6/6 [==============================] - 0s 3ms/step - loss: 0.9811 - accuracy: 0.3619\n",
            "Epoch 18/50\n",
            "6/6 [==============================] - 0s 2ms/step - loss: 0.9751 - accuracy: 0.3810\n",
            "Epoch 19/50\n",
            "6/6 [==============================] - 0s 3ms/step - loss: 0.9693 - accuracy: 0.3810\n",
            "Epoch 20/50\n",
            "6/6 [==============================] - 0s 3ms/step - loss: 0.9638 - accuracy: 0.3905\n",
            "Epoch 21/50\n",
            "6/6 [==============================] - 0s 3ms/step - loss: 0.9585 - accuracy: 0.4381\n",
            "Epoch 22/50\n",
            "6/6 [==============================] - 0s 3ms/step - loss: 0.9535 - accuracy: 0.4476\n",
            "Epoch 23/50\n",
            "6/6 [==============================] - 0s 3ms/step - loss: 0.9487 - accuracy: 0.4952\n",
            "Epoch 24/50\n",
            "6/6 [==============================] - 0s 3ms/step - loss: 0.9436 - accuracy: 0.5619\n",
            "Epoch 25/50\n",
            "6/6 [==============================] - 0s 3ms/step - loss: 0.9392 - accuracy: 0.5619\n",
            "Epoch 26/50\n",
            "6/6 [==============================] - 0s 2ms/step - loss: 0.9345 - accuracy: 0.6000\n",
            "Epoch 27/50\n",
            "6/6 [==============================] - 0s 2ms/step - loss: 0.9300 - accuracy: 0.6190\n",
            "Epoch 28/50\n",
            "6/6 [==============================] - 0s 2ms/step - loss: 0.9258 - accuracy: 0.6952\n",
            "Epoch 29/50\n",
            "6/6 [==============================] - 0s 3ms/step - loss: 0.9217 - accuracy: 0.7048\n",
            "Epoch 30/50\n",
            "6/6 [==============================] - 0s 5ms/step - loss: 0.9176 - accuracy: 0.7524\n",
            "Epoch 31/50\n",
            "6/6 [==============================] - 0s 5ms/step - loss: 0.9134 - accuracy: 0.7714\n",
            "Epoch 32/50\n",
            "6/6 [==============================] - 0s 2ms/step - loss: 0.9094 - accuracy: 0.7810\n",
            "Epoch 33/50\n",
            "6/6 [==============================] - 0s 3ms/step - loss: 0.9055 - accuracy: 0.7810\n",
            "Epoch 34/50\n",
            "6/6 [==============================] - 0s 2ms/step - loss: 0.9016 - accuracy: 0.8000\n",
            "Epoch 35/50\n",
            "6/6 [==============================] - 0s 3ms/step - loss: 0.8980 - accuracy: 0.8000\n",
            "Epoch 36/50\n",
            "6/6 [==============================] - 0s 3ms/step - loss: 0.8943 - accuracy: 0.8095\n",
            "Epoch 37/50\n",
            "6/6 [==============================] - 0s 3ms/step - loss: 0.8910 - accuracy: 0.8190\n",
            "Epoch 38/50\n",
            "6/6 [==============================] - 0s 3ms/step - loss: 0.8874 - accuracy: 0.8381\n",
            "Epoch 39/50\n",
            "6/6 [==============================] - 0s 3ms/step - loss: 0.8839 - accuracy: 0.8476\n",
            "Epoch 40/50\n",
            "6/6 [==============================] - 0s 2ms/step - loss: 0.8807 - accuracy: 0.8476\n",
            "Epoch 41/50\n",
            "6/6 [==============================] - 0s 4ms/step - loss: 0.8775 - accuracy: 0.8476\n",
            "Epoch 42/50\n",
            "6/6 [==============================] - 0s 3ms/step - loss: 0.8742 - accuracy: 0.8476\n",
            "Epoch 43/50\n",
            "6/6 [==============================] - 0s 3ms/step - loss: 0.8711 - accuracy: 0.8476\n",
            "Epoch 44/50\n",
            "6/6 [==============================] - 0s 3ms/step - loss: 0.8679 - accuracy: 0.8476\n",
            "Epoch 45/50\n",
            "6/6 [==============================] - 0s 2ms/step - loss: 0.8649 - accuracy: 0.8476\n",
            "Epoch 46/50\n",
            "6/6 [==============================] - 0s 2ms/step - loss: 0.8618 - accuracy: 0.8476\n",
            "Epoch 47/50\n",
            "6/6 [==============================] - 0s 2ms/step - loss: 0.8587 - accuracy: 0.8476\n",
            "Epoch 48/50\n",
            "6/6 [==============================] - 0s 2ms/step - loss: 0.8558 - accuracy: 0.8476\n",
            "Epoch 49/50\n",
            "6/6 [==============================] - 0s 3ms/step - loss: 0.8529 - accuracy: 0.8476\n",
            "Epoch 50/50\n",
            "6/6 [==============================] - 0s 2ms/step - loss: 0.8499 - accuracy: 0.8476\n"
          ],
          "name": "stdout"
        }
      ]
    },
    {
      "cell_type": "code",
      "metadata": {
        "colab": {
          "base_uri": "https://localhost:8080/",
          "height": 267
        },
        "id": "icDvD1OYH9ix",
        "outputId": "dd516920-2c69-4209-ab9b-40c9dbd6ff9b"
      },
      "source": [
        "plt.plot(trained_model.history['loss'])\n",
        "plt.show()"
      ],
      "execution_count": null,
      "outputs": [
        {
          "output_type": "display_data",
          "data": {
            "image/png": "[encoded data removed]",
            "text/plain": [
              "<Figure size 432x288 with 1 Axes>"
            ]
          },
          "metadata": {
            "tags": [],
            "needs_background": "light"
          }
        }
      ]
    },
    {
      "cell_type": "code",
      "metadata": {
        "colab": {
          "base_uri": "https://localhost:8080/"
        },
        "id": "InxLA9HYIjZC",
        "outputId": "aa53ff23-be0c-4f02-d52b-1a8bab81b155"
      },
      "source": [
        "#testing the model with 30% data means X_test\n",
        "Y_pred=model.predict(X_test)\n",
        "Y_pred"
      ],
      "execution_count": null,
      "outputs": [
        {
          "output_type": "execute_result",
          "data": {
            "text/plain": [
              "array([[0.25854504, 0.34160718, 0.39984778],\n",
              "       [0.37483212, 0.3720463 , 0.25312155],\n",
              "       [0.37188128, 0.3694201 , 0.2586986 ],\n",
              "       [0.37483212, 0.3720463 , 0.25312155],\n",
              "       [0.12095831, 0.21621081, 0.6628309 ],\n",
              "       [0.2723617 , 0.3504874 , 0.37715092],\n",
              "       [0.02604824, 0.07231888, 0.90163296],\n",
              "       [0.15669222, 0.25580987, 0.58749795],\n",
              "       [0.10619863, 0.1980997 , 0.69570166],\n",
              "       [0.37483212, 0.3720463 , 0.25312155],\n",
              "       [0.37327844, 0.3706646 , 0.25605693],\n",
              "       [0.2367525 , 0.32630622, 0.43694136],\n",
              "       [0.37483212, 0.3720463 , 0.25312155],\n",
              "       [0.35983944, 0.3742277 , 0.26593286],\n",
              "       [0.37483212, 0.3720463 , 0.25312155],\n",
              "       [0.0489107 , 0.11473911, 0.83635014],\n",
              "       [0.11273551, 0.2062591 , 0.68100536],\n",
              "       [0.36477622, 0.37355754, 0.26166627],\n",
              "       [0.15425402, 0.25328326, 0.59246266],\n",
              "       [0.13009678, 0.22688384, 0.6430194 ],\n",
              "       [0.02156106, 0.06285672, 0.9155822 ],\n",
              "       [0.37483212, 0.3720463 , 0.25312155],\n",
              "       [0.10794494, 0.20030165, 0.69175345],\n",
              "       [0.35473344, 0.37487015, 0.2703964 ],\n",
              "       [0.34938768, 0.3754866 , 0.27512568],\n",
              "       [0.20152779, 0.29814836, 0.50032383],\n",
              "       [0.35473344, 0.37487015, 0.2703964 ],\n",
              "       [0.11985464, 0.21489468, 0.66525066],\n",
              "       [0.37483212, 0.3720463 , 0.25312155],\n",
              "       [0.32709017, 0.37741637, 0.29549345],\n",
              "       [0.37414858, 0.37143868, 0.25441268],\n",
              "       [0.37483212, 0.3720463 , 0.25312155],\n",
              "       [0.19105774, 0.28893542, 0.52000684],\n",
              "       [0.35473344, 0.37487015, 0.2703964 ],\n",
              "       [0.00481609, 0.02038884, 0.9747951 ],\n",
              "       [0.06397228, 0.13913405, 0.79689366],\n",
              "       [0.37483212, 0.3720463 , 0.25312155],\n",
              "       [0.37483212, 0.3720463 , 0.25312155],\n",
              "       [0.37483212, 0.3720463 , 0.25312155],\n",
              "       [0.04729811, 0.11198756, 0.84071434],\n",
              "       [0.06204091, 0.13612606, 0.80183303],\n",
              "       [0.2580835 , 0.3412996 , 0.40061688],\n",
              "       [0.11890484, 0.21375725, 0.66733795],\n",
              "       [0.37483212, 0.3720463 , 0.25312155],\n",
              "       [0.37483212, 0.3720463 , 0.25312155]], dtype=float32)"
            ]
          },
          "metadata": {
            "tags": []
          },
          "execution_count": 21
        }
      ]
    },
    {
      "cell_type": "code",
      "metadata": {
        "colab": {
          "base_uri": "https://localhost:8080/"
        },
        "id": "avgzh7YdKTDK",
        "outputId": "9453cb1a-9fcb-4248-86a1-3e795014a523"
      },
      "source": [
        "#select highest probability from Y_pred \n",
        "Y_pred=Y_pred.argmax(axis=1) #argmax() inbuikt function : to find maximum probability\n",
        "print(Y_pred)"
      ],
      "execution_count": null,
      "outputs": [
        {
          "output_type": "stream",
          "text": [
            "[2 0 0 0 2 2 2 2 2 0 0 2 0 1 0 2 2 1 2 2 2 0 2 1 1 2 1 2 0 1 0 0 2 1 2 2 0\n",
            " 0 0 2 2 2 2 0 0]\n"
          ],
          "name": "stdout"
        }
      ]
    },
    {
      "cell_type": "code",
      "metadata": {
        "colab": {
          "base_uri": "https://localhost:8080/"
        },
        "id": "rPg5-cbUKbGq",
        "outputId": "a122941f-61cc-4cda-8d54-62aec7ca9f94"
      },
      "source": [
        "print(Y_test)"
      ],
      "execution_count": null,
      "outputs": [
        {
          "output_type": "stream",
          "text": [
            "148    2\n",
            "5      0\n",
            "6      0\n",
            "106    2\n",
            "75     1\n",
            "71     1\n",
            "108    2\n",
            "68     1\n",
            "111    2\n",
            "16     0\n",
            "15     0\n",
            "127    2\n",
            "8      0\n",
            "57     1\n",
            "47     0\n",
            "76     1\n",
            "141    2\n",
            "66     1\n",
            "74     1\n",
            "147    2\n",
            "102    2\n",
            "12     0\n",
            "65     1\n",
            "121    2\n",
            "94     1\n",
            "56     1\n",
            "98     1\n",
            "144    2\n",
            "43     0\n",
            "113    2\n",
            "11     0\n",
            "0      0\n",
            "62     1\n",
            "53     1\n",
            "107    2\n",
            "112    2\n",
            "37     0\n",
            "25     0\n",
            "1      0\n",
            "50     1\n",
            "120    2\n",
            "149    2\n",
            "54     1\n",
            "7      0\n",
            "9      0\n",
            "Name: species, dtype: int64\n"
          ],
          "name": "stdout"
        }
      ]
    },
    {
      "cell_type": "code",
      "metadata": {
        "colab": {
          "base_uri": "https://localhost:8080/"
        },
        "id": "FuyQwrESLjTx",
        "outputId": "95f93f1c-9954-468e-f7cb-d967dfd556ef"
      },
      "source": [
        "from sklearn.metrics import classification_report\n",
        "print(classification_report(Y_test,Y_pred))\n",
        "\n",
        "from sklearn.metrics import confusion_matrix\n",
        "print(\"Confusion Matrix\")\n",
        "print(confusion_matrix(Y_test,Y_pred))"
      ],
      "execution_count": null,
      "outputs": [
        {
          "output_type": "stream",
          "text": [
            "              precision    recall  f1-score   support\n",
            "\n",
            "           0       0.94      1.00      0.97        15\n",
            "           1       0.71      0.33      0.45        15\n",
            "           2       0.55      0.80      0.65        15\n",
            "\n",
            "    accuracy                           0.71        45\n",
            "   macro avg       0.73      0.71      0.69        45\n",
            "weighted avg       0.73      0.71      0.69        45\n",
            "\n",
            "Confusion Matrix\n",
            "[[15  0  0]\n",
            " [ 0  5 10]\n",
            " [ 1  2 12]]\n"
          ],
          "name": "stdout"
        }
      ]
    },
    {
      "cell_type": "code",
      "metadata": {
        "id": "sxq7vTvqMc8Z"
      },
      "source": [
        ""
      ],
      "execution_count": null,
      "outputs": []
    }
  ]
}