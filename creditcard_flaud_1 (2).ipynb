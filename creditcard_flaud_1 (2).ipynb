{
  "nbformat": 4,
  "nbformat_minor": 0,
  "metadata": {
    "colab": {
      "name": "creditcard flaud 1.ipynb",
      "provenance": [],
      "collapsed_sections": []
    },
    "kernelspec": {
      "name": "python3",
      "display_name": "Python 3"
    },
    "language_info": {
      "name": "python"
    }
  },
  "cells": [
    {
      "cell_type": "code",
      "metadata": {
        "id": "KFMF3Lqbh1a_"
      },
      "source": [
        "import numpy as np\n",
        "import pandas as pd\n",
        "import matplotlib.pyplot as plt\n",
        "import seaborn as sns\n",
        "import warnings\n",
        "warnings.filterwarnings('ignore')"
      ],
      "execution_count": 1,
      "outputs": []
    },
    {
      "cell_type": "code",
      "metadata": {
        "colab": {
          "base_uri": "https://localhost:8080/",
          "height": 215
        },
        "id": "VeoovEl9jrR_",
        "outputId": "a420da8c-99e1-4669-8196-1a80118d3d04"
      },
      "source": [
        "df=pd.read_csv(\"/content/sample_data/creditcard.csv\")\n",
        "df.head()"
      ],
      "execution_count": 2,
      "outputs": [
        {
          "output_type": "execute_result",
          "data": {
            "text/html": [
              "<div>\n",
              "<style scoped>\n",
              "    .dataframe tbody tr th:only-of-type {\n",
              "        vertical-align: middle;\n",
              "    }\n",
              "\n",
              "    .dataframe tbody tr th {\n",
              "        vertical-align: top;\n",
              "    }\n",
              "\n",
              "    .dataframe thead th {\n",
              "        text-align: right;\n",
              "    }\n",
              "</style>\n",
              "<table border=\"1\" class=\"dataframe\">\n",
              "  <thead>\n",
              "    <tr style=\"text-align: right;\">\n",
              "      <th></th>\n",
              "      <th>Time</th>\n",
              "      <th>V1</th>\n",
              "      <th>V2</th>\n",
              "      <th>V3</th>\n",
              "      <th>V4</th>\n",
              "      <th>V5</th>\n",
              "      <th>V6</th>\n",
              "      <th>V7</th>\n",
              "      <th>V8</th>\n",
              "      <th>V9</th>\n",
              "      <th>V10</th>\n",
              "      <th>V11</th>\n",
              "      <th>V12</th>\n",
              "      <th>V13</th>\n",
              "      <th>V14</th>\n",
              "      <th>V15</th>\n",
              "      <th>V16</th>\n",
              "      <th>V17</th>\n",
              "      <th>V18</th>\n",
              "      <th>V19</th>\n",
              "      <th>V20</th>\n",
              "      <th>V21</th>\n",
              "      <th>V22</th>\n",
              "      <th>V23</th>\n",
              "      <th>V24</th>\n",
              "      <th>V25</th>\n",
              "      <th>V26</th>\n",
              "      <th>V27</th>\n",
              "      <th>V28</th>\n",
              "      <th>Amount</th>\n",
              "      <th>Class</th>\n",
              "    </tr>\n",
              "  </thead>\n",
              "  <tbody>\n",
              "    <tr>\n",
              "      <th>0</th>\n",
              "      <td>0</td>\n",
              "      <td>-1.359807</td>\n",
              "      <td>-0.072781</td>\n",
              "      <td>2.536347</td>\n",
              "      <td>1.378155</td>\n",
              "      <td>-0.338321</td>\n",
              "      <td>0.462388</td>\n",
              "      <td>0.239599</td>\n",
              "      <td>0.098698</td>\n",
              "      <td>0.363787</td>\n",
              "      <td>0.090794</td>\n",
              "      <td>-0.551600</td>\n",
              "      <td>-0.617801</td>\n",
              "      <td>-0.991390</td>\n",
              "      <td>-0.311169</td>\n",
              "      <td>1.468177</td>\n",
              "      <td>-0.470401</td>\n",
              "      <td>0.207971</td>\n",
              "      <td>0.025791</td>\n",
              "      <td>0.403993</td>\n",
              "      <td>0.251412</td>\n",
              "      <td>-0.018307</td>\n",
              "      <td>0.277838</td>\n",
              "      <td>-0.110474</td>\n",
              "      <td>0.066928</td>\n",
              "      <td>0.128539</td>\n",
              "      <td>-0.189115</td>\n",
              "      <td>0.133558</td>\n",
              "      <td>-0.021053</td>\n",
              "      <td>149.62</td>\n",
              "      <td>0.0</td>\n",
              "    </tr>\n",
              "    <tr>\n",
              "      <th>1</th>\n",
              "      <td>0</td>\n",
              "      <td>1.191857</td>\n",
              "      <td>0.266151</td>\n",
              "      <td>0.166480</td>\n",
              "      <td>0.448154</td>\n",
              "      <td>0.060018</td>\n",
              "      <td>-0.082361</td>\n",
              "      <td>-0.078803</td>\n",
              "      <td>0.085102</td>\n",
              "      <td>-0.255425</td>\n",
              "      <td>-0.166974</td>\n",
              "      <td>1.612727</td>\n",
              "      <td>1.065235</td>\n",
              "      <td>0.489095</td>\n",
              "      <td>-0.143772</td>\n",
              "      <td>0.635558</td>\n",
              "      <td>0.463917</td>\n",
              "      <td>-0.114805</td>\n",
              "      <td>-0.183361</td>\n",
              "      <td>-0.145783</td>\n",
              "      <td>-0.069083</td>\n",
              "      <td>-0.225775</td>\n",
              "      <td>-0.638672</td>\n",
              "      <td>0.101288</td>\n",
              "      <td>-0.339846</td>\n",
              "      <td>0.167170</td>\n",
              "      <td>0.125895</td>\n",
              "      <td>-0.008983</td>\n",
              "      <td>0.014724</td>\n",
              "      <td>2.69</td>\n",
              "      <td>0.0</td>\n",
              "    </tr>\n",
              "    <tr>\n",
              "      <th>2</th>\n",
              "      <td>1</td>\n",
              "      <td>-1.358354</td>\n",
              "      <td>-1.340163</td>\n",
              "      <td>1.773209</td>\n",
              "      <td>0.379780</td>\n",
              "      <td>-0.503198</td>\n",
              "      <td>1.800499</td>\n",
              "      <td>0.791461</td>\n",
              "      <td>0.247676</td>\n",
              "      <td>-1.514654</td>\n",
              "      <td>0.207643</td>\n",
              "      <td>0.624501</td>\n",
              "      <td>0.066084</td>\n",
              "      <td>0.717293</td>\n",
              "      <td>-0.165946</td>\n",
              "      <td>2.345865</td>\n",
              "      <td>-2.890083</td>\n",
              "      <td>1.109969</td>\n",
              "      <td>-0.121359</td>\n",
              "      <td>-2.261857</td>\n",
              "      <td>0.524980</td>\n",
              "      <td>0.247998</td>\n",
              "      <td>0.771679</td>\n",
              "      <td>0.909412</td>\n",
              "      <td>-0.689281</td>\n",
              "      <td>-0.327642</td>\n",
              "      <td>-0.139097</td>\n",
              "      <td>-0.055353</td>\n",
              "      <td>-0.059752</td>\n",
              "      <td>378.66</td>\n",
              "      <td>0.0</td>\n",
              "    </tr>\n",
              "    <tr>\n",
              "      <th>3</th>\n",
              "      <td>1</td>\n",
              "      <td>-0.966272</td>\n",
              "      <td>-0.185226</td>\n",
              "      <td>1.792993</td>\n",
              "      <td>-0.863291</td>\n",
              "      <td>-0.010309</td>\n",
              "      <td>1.247203</td>\n",
              "      <td>0.237609</td>\n",
              "      <td>0.377436</td>\n",
              "      <td>-1.387024</td>\n",
              "      <td>-0.054952</td>\n",
              "      <td>-0.226487</td>\n",
              "      <td>0.178228</td>\n",
              "      <td>0.507757</td>\n",
              "      <td>-0.287924</td>\n",
              "      <td>-0.631418</td>\n",
              "      <td>-1.059647</td>\n",
              "      <td>-0.684093</td>\n",
              "      <td>1.965775</td>\n",
              "      <td>-1.232622</td>\n",
              "      <td>-0.208038</td>\n",
              "      <td>-0.108300</td>\n",
              "      <td>0.005274</td>\n",
              "      <td>-0.190321</td>\n",
              "      <td>-1.175575</td>\n",
              "      <td>0.647376</td>\n",
              "      <td>-0.221929</td>\n",
              "      <td>0.062723</td>\n",
              "      <td>0.061458</td>\n",
              "      <td>123.50</td>\n",
              "      <td>0.0</td>\n",
              "    </tr>\n",
              "    <tr>\n",
              "      <th>4</th>\n",
              "      <td>2</td>\n",
              "      <td>-1.158233</td>\n",
              "      <td>0.877737</td>\n",
              "      <td>1.548718</td>\n",
              "      <td>0.403034</td>\n",
              "      <td>-0.407193</td>\n",
              "      <td>0.095921</td>\n",
              "      <td>0.592941</td>\n",
              "      <td>-0.270533</td>\n",
              "      <td>0.817739</td>\n",
              "      <td>0.753074</td>\n",
              "      <td>-0.822843</td>\n",
              "      <td>0.538196</td>\n",
              "      <td>1.345852</td>\n",
              "      <td>-1.119670</td>\n",
              "      <td>0.175121</td>\n",
              "      <td>-0.451449</td>\n",
              "      <td>-0.237033</td>\n",
              "      <td>-0.038195</td>\n",
              "      <td>0.803487</td>\n",
              "      <td>0.408542</td>\n",
              "      <td>-0.009431</td>\n",
              "      <td>0.798278</td>\n",
              "      <td>-0.137458</td>\n",
              "      <td>0.141267</td>\n",
              "      <td>-0.206010</td>\n",
              "      <td>0.502292</td>\n",
              "      <td>0.219422</td>\n",
              "      <td>0.215153</td>\n",
              "      <td>69.99</td>\n",
              "      <td>0.0</td>\n",
              "    </tr>\n",
              "  </tbody>\n",
              "</table>\n",
              "</div>"
            ],
            "text/plain": [
              "   Time        V1        V2        V3  ...       V27       V28  Amount  Class\n",
              "0     0 -1.359807 -0.072781  2.536347  ...  0.133558 -0.021053  149.62    0.0\n",
              "1     0  1.191857  0.266151  0.166480  ... -0.008983  0.014724    2.69    0.0\n",
              "2     1 -1.358354 -1.340163  1.773209  ... -0.055353 -0.059752  378.66    0.0\n",
              "3     1 -0.966272 -0.185226  1.792993  ...  0.062723  0.061458  123.50    0.0\n",
              "4     2 -1.158233  0.877737  1.548718  ...  0.219422  0.215153   69.99    0.0\n",
              "\n",
              "[5 rows x 31 columns]"
            ]
          },
          "metadata": {
            "tags": []
          },
          "execution_count": 2
        }
      ]
    },
    {
      "cell_type": "code",
      "metadata": {
        "colab": {
          "base_uri": "https://localhost:8080/"
        },
        "id": "LGLyZt-kkwa_",
        "outputId": "eb91482a-cdf1-4953-f050-f0d9140d0963"
      },
      "source": [
        "#check null values\n",
        "df.isnull().sum()"
      ],
      "execution_count": 3,
      "outputs": [
        {
          "output_type": "execute_result",
          "data": {
            "text/plain": [
              "Time      0\n",
              "V1        0\n",
              "V2        0\n",
              "V3        0\n",
              "V4        0\n",
              "V5        0\n",
              "V6        0\n",
              "V7        0\n",
              "V8        0\n",
              "V9        0\n",
              "V10       0\n",
              "V11       0\n",
              "V12       0\n",
              "V13       0\n",
              "V14       0\n",
              "V15       0\n",
              "V16       0\n",
              "V17       0\n",
              "V18       0\n",
              "V19       0\n",
              "V20       0\n",
              "V21       0\n",
              "V22       0\n",
              "V23       0\n",
              "V24       0\n",
              "V25       0\n",
              "V26       0\n",
              "V27       0\n",
              "V28       0\n",
              "Amount    1\n",
              "Class     1\n",
              "dtype: int64"
            ]
          },
          "metadata": {
            "tags": []
          },
          "execution_count": 3
        }
      ]
    },
    {
      "cell_type": "code",
      "metadata": {
        "colab": {
          "base_uri": "https://localhost:8080/"
        },
        "id": "-wNYUJ4dlTiF",
        "outputId": "95b1e191-d68f-4186-ab8f-850dd2a3d529"
      },
      "source": [
        "df.info()"
      ],
      "execution_count": 4,
      "outputs": [
        {
          "output_type": "stream",
          "text": [
            "<class 'pandas.core.frame.DataFrame'>\n",
            "RangeIndex: 13954 entries, 0 to 13953\n",
            "Data columns (total 31 columns):\n",
            " #   Column  Non-Null Count  Dtype  \n",
            "---  ------  --------------  -----  \n",
            " 0   Time    13954 non-null  int64  \n",
            " 1   V1      13954 non-null  float64\n",
            " 2   V2      13954 non-null  float64\n",
            " 3   V3      13954 non-null  float64\n",
            " 4   V4      13954 non-null  float64\n",
            " 5   V5      13954 non-null  float64\n",
            " 6   V6      13954 non-null  float64\n",
            " 7   V7      13954 non-null  float64\n",
            " 8   V8      13954 non-null  float64\n",
            " 9   V9      13954 non-null  float64\n",
            " 10  V10     13954 non-null  float64\n",
            " 11  V11     13954 non-null  float64\n",
            " 12  V12     13954 non-null  float64\n",
            " 13  V13     13954 non-null  float64\n",
            " 14  V14     13954 non-null  float64\n",
            " 15  V15     13954 non-null  float64\n",
            " 16  V16     13954 non-null  float64\n",
            " 17  V17     13954 non-null  float64\n",
            " 18  V18     13954 non-null  float64\n",
            " 19  V19     13954 non-null  float64\n",
            " 20  V20     13954 non-null  float64\n",
            " 21  V21     13954 non-null  float64\n",
            " 22  V22     13954 non-null  float64\n",
            " 23  V23     13954 non-null  float64\n",
            " 24  V24     13954 non-null  float64\n",
            " 25  V25     13954 non-null  float64\n",
            " 26  V26     13954 non-null  float64\n",
            " 27  V27     13954 non-null  float64\n",
            " 28  V28     13954 non-null  float64\n",
            " 29  Amount  13953 non-null  float64\n",
            " 30  Class   13953 non-null  float64\n",
            "dtypes: float64(30), int64(1)\n",
            "memory usage: 3.3 MB\n"
          ],
          "name": "stdout"
        }
      ]
    },
    {
      "cell_type": "code",
      "metadata": {
        "colab": {
          "base_uri": "https://localhost:8080/"
        },
        "id": "I19SxLlIlh07",
        "outputId": "0b0dce5f-fec9-4190-cd12-ce25d4fae7cd"
      },
      "source": [
        "df[\"Class\"].unique()"
      ],
      "execution_count": 5,
      "outputs": [
        {
          "output_type": "execute_result",
          "data": {
            "text/plain": [
              "array([ 0.,  1., nan])"
            ]
          },
          "metadata": {
            "tags": []
          },
          "execution_count": 5
        }
      ]
    },
    {
      "cell_type": "code",
      "metadata": {
        "colab": {
          "base_uri": "https://localhost:8080/"
        },
        "id": "b16xz_jGlpXa",
        "outputId": "8e3f4d9d-ceb0-45c1-ca32-4c54c95f96c7"
      },
      "source": [
        "df[\"Class\"].value_counts()"
      ],
      "execution_count": 6,
      "outputs": [
        {
          "output_type": "execute_result",
          "data": {
            "text/plain": [
              "0.0    13897\n",
              "1.0       56\n",
              "Name: Class, dtype: int64"
            ]
          },
          "metadata": {
            "tags": []
          },
          "execution_count": 6
        }
      ]
    },
    {
      "cell_type": "code",
      "metadata": {
        "id": "vmmcyRS2l5K1"
      },
      "source": [
        "m=df[\"Class\"].mean()"
      ],
      "execution_count": 7,
      "outputs": []
    },
    {
      "cell_type": "code",
      "metadata": {
        "colab": {
          "base_uri": "https://localhost:8080/"
        },
        "id": "aTPDzKQil8tC",
        "outputId": "1782643e-828a-4fc1-a4c6-d9e6009fbe47"
      },
      "source": [
        "print(m)"
      ],
      "execution_count": 8,
      "outputs": [
        {
          "output_type": "stream",
          "text": [
            "0.004013473804916505\n"
          ],
          "name": "stdout"
        }
      ]
    },
    {
      "cell_type": "code",
      "metadata": {
        "id": "AKhc9eCbmBls"
      },
      "source": [
        "df[\"Class\"].fillna(m,inplace=True)"
      ],
      "execution_count": 9,
      "outputs": []
    },
    {
      "cell_type": "code",
      "metadata": {
        "id": "ZpjK6zdcmLNW"
      },
      "source": [
        "df[\"V13\"].fillna(m,inplace=True)"
      ],
      "execution_count": 10,
      "outputs": []
    },
    {
      "cell_type": "code",
      "metadata": {
        "id": "AeSMJb0GmLaB"
      },
      "source": [
        "df[\"V14\"].fillna(m,inplace=True)"
      ],
      "execution_count": 11,
      "outputs": []
    },
    {
      "cell_type": "code",
      "metadata": {
        "id": "R5APyECEmLeC"
      },
      "source": [
        "df[\"V15\"].fillna(m,inplace=True)"
      ],
      "execution_count": 12,
      "outputs": []
    },
    {
      "cell_type": "code",
      "metadata": {
        "id": "IegAPeR2mLhK"
      },
      "source": [
        "df[\"V16\"].fillna(m,inplace=True)"
      ],
      "execution_count": 13,
      "outputs": []
    },
    {
      "cell_type": "code",
      "metadata": {
        "id": "cDNk1Xx6mLkC"
      },
      "source": [
        "df[\"V17\"].fillna(m,inplace=True)"
      ],
      "execution_count": 14,
      "outputs": []
    },
    {
      "cell_type": "code",
      "metadata": {
        "id": "eepAUFRymLqC"
      },
      "source": [
        "df[\"V18\"].fillna(m,inplace=True)"
      ],
      "execution_count": 15,
      "outputs": []
    },
    {
      "cell_type": "code",
      "metadata": {
        "id": "uqeP8rUpmLwM"
      },
      "source": [
        "df[\"V19\"].fillna(m,inplace=True)"
      ],
      "execution_count": 16,
      "outputs": []
    },
    {
      "cell_type": "code",
      "metadata": {
        "id": "oUUlKnLHmLxy"
      },
      "source": [
        "df[\"V20\"].fillna(m,inplace=True)"
      ],
      "execution_count": 17,
      "outputs": []
    },
    {
      "cell_type": "code",
      "metadata": {
        "id": "576gVBlumL1D"
      },
      "source": [
        "df[\"V21\"].fillna(m,inplace=True)"
      ],
      "execution_count": 18,
      "outputs": []
    },
    {
      "cell_type": "code",
      "metadata": {
        "id": "ZKrRY8FymL3t"
      },
      "source": [
        "df[\"V22\"].fillna(m,inplace=True)"
      ],
      "execution_count": 19,
      "outputs": []
    },
    {
      "cell_type": "code",
      "metadata": {
        "id": "MHI9lEXDmL9H"
      },
      "source": [
        "df[\"V23\"].fillna(m,inplace=True)"
      ],
      "execution_count": 20,
      "outputs": []
    },
    {
      "cell_type": "code",
      "metadata": {
        "id": "wb9oQM_RmMAU"
      },
      "source": [
        "df[\"V24\"].fillna(m,inplace=True)"
      ],
      "execution_count": 21,
      "outputs": []
    },
    {
      "cell_type": "code",
      "metadata": {
        "id": "XCJGnjGbmMFa"
      },
      "source": [
        "df[\"V25\"].fillna(m,inplace=True)"
      ],
      "execution_count": 22,
      "outputs": []
    },
    {
      "cell_type": "code",
      "metadata": {
        "id": "r_Minz6UmMJy"
      },
      "source": [
        "df[\"V26\"].fillna(m,inplace=True)"
      ],
      "execution_count": 23,
      "outputs": []
    },
    {
      "cell_type": "code",
      "metadata": {
        "id": "fgZL1rSAmMOj"
      },
      "source": [
        "df[\"V27\"].fillna(m,inplace=True)"
      ],
      "execution_count": 24,
      "outputs": []
    },
    {
      "cell_type": "code",
      "metadata": {
        "id": "q19hgA8KmMSC"
      },
      "source": [
        "df[\"V28\"].fillna(m,inplace=True)"
      ],
      "execution_count": 25,
      "outputs": []
    },
    {
      "cell_type": "code",
      "metadata": {
        "id": "sQulwtOMmMYi"
      },
      "source": [
        "df[\"Amount\"].fillna(m,inplace=True)"
      ],
      "execution_count": 26,
      "outputs": []
    },
    {
      "cell_type": "code",
      "metadata": {
        "colab": {
          "base_uri": "https://localhost:8080/"
        },
        "id": "tjwOTKuRordM",
        "outputId": "7adc17ba-c3b6-4cb2-9470-c472dd2ca12a"
      },
      "source": [
        "df.isnull().sum()"
      ],
      "execution_count": 27,
      "outputs": [
        {
          "output_type": "execute_result",
          "data": {
            "text/plain": [
              "Time      0\n",
              "V1        0\n",
              "V2        0\n",
              "V3        0\n",
              "V4        0\n",
              "V5        0\n",
              "V6        0\n",
              "V7        0\n",
              "V8        0\n",
              "V9        0\n",
              "V10       0\n",
              "V11       0\n",
              "V12       0\n",
              "V13       0\n",
              "V14       0\n",
              "V15       0\n",
              "V16       0\n",
              "V17       0\n",
              "V18       0\n",
              "V19       0\n",
              "V20       0\n",
              "V21       0\n",
              "V22       0\n",
              "V23       0\n",
              "V24       0\n",
              "V25       0\n",
              "V26       0\n",
              "V27       0\n",
              "V28       0\n",
              "Amount    0\n",
              "Class     0\n",
              "dtype: int64"
            ]
          },
          "metadata": {
            "tags": []
          },
          "execution_count": 27
        }
      ]
    },
    {
      "cell_type": "code",
      "metadata": {
        "colab": {
          "base_uri": "https://localhost:8080/"
        },
        "id": "Ivt7j5D61sN0",
        "outputId": "b22da846-8de5-4350-bae0-3b0f15475794"
      },
      "source": [
        "#To change the datatype of horsepower from object to float\n",
        "df[\"Class\"]=df[\"Class\"].astype(\"int\")\n",
        "df.info()"
      ],
      "execution_count": 28,
      "outputs": [
        {
          "output_type": "stream",
          "text": [
            "<class 'pandas.core.frame.DataFrame'>\n",
            "RangeIndex: 13954 entries, 0 to 13953\n",
            "Data columns (total 31 columns):\n",
            " #   Column  Non-Null Count  Dtype  \n",
            "---  ------  --------------  -----  \n",
            " 0   Time    13954 non-null  int64  \n",
            " 1   V1      13954 non-null  float64\n",
            " 2   V2      13954 non-null  float64\n",
            " 3   V3      13954 non-null  float64\n",
            " 4   V4      13954 non-null  float64\n",
            " 5   V5      13954 non-null  float64\n",
            " 6   V6      13954 non-null  float64\n",
            " 7   V7      13954 non-null  float64\n",
            " 8   V8      13954 non-null  float64\n",
            " 9   V9      13954 non-null  float64\n",
            " 10  V10     13954 non-null  float64\n",
            " 11  V11     13954 non-null  float64\n",
            " 12  V12     13954 non-null  float64\n",
            " 13  V13     13954 non-null  float64\n",
            " 14  V14     13954 non-null  float64\n",
            " 15  V15     13954 non-null  float64\n",
            " 16  V16     13954 non-null  float64\n",
            " 17  V17     13954 non-null  float64\n",
            " 18  V18     13954 non-null  float64\n",
            " 19  V19     13954 non-null  float64\n",
            " 20  V20     13954 non-null  float64\n",
            " 21  V21     13954 non-null  float64\n",
            " 22  V22     13954 non-null  float64\n",
            " 23  V23     13954 non-null  float64\n",
            " 24  V24     13954 non-null  float64\n",
            " 25  V25     13954 non-null  float64\n",
            " 26  V26     13954 non-null  float64\n",
            " 27  V27     13954 non-null  float64\n",
            " 28  V28     13954 non-null  float64\n",
            " 29  Amount  13954 non-null  float64\n",
            " 30  Class   13954 non-null  int64  \n",
            "dtypes: float64(29), int64(2)\n",
            "memory usage: 3.3 MB\n"
          ],
          "name": "stdout"
        }
      ]
    },
    {
      "cell_type": "code",
      "metadata": {
        "colab": {
          "base_uri": "https://localhost:8080/",
          "height": 286
        },
        "id": "l1J3v546o0xr",
        "outputId": "33d329f1-23ea-4bbe-c215-e5e1795f694c"
      },
      "source": [
        "#Visualize null values by plot\n",
        "sns.heatmap(df.isnull())\n",
        "plt.show()"
      ],
      "execution_count": 29,
      "outputs": [
        {
          "output_type": "display_data",
          "data": {
            "image/png": "[encoded data removed]",
            "text/plain": [
              "<Figure size 432x288 with 2 Axes>"
            ]
          },
          "metadata": {
            "tags": [],
            "needs_background": "light"
          }
        }
      ]
    },
    {
      "cell_type": "code",
      "metadata": {
        "id": "nXoylhJao8IO"
      },
      "source": [
        "#Our target is class, So let's take X= Class in input\n",
        "X=df.drop(\"Class\",axis=1)\n",
        "Y=df[\"Class\"] # Output means target value"
      ],
      "execution_count": 30,
      "outputs": []
    },
    {
      "cell_type": "code",
      "metadata": {
        "id": "oQPOR9LwpDWl"
      },
      "source": [
        "#Train_test_split\n",
        "from sklearn.model_selection import train_test_split\n",
        "X_train,X_test,Y_train,Y_test=train_test_split(X,Y,test_size=0.3,random_state=1)"
      ],
      "execution_count": 31,
      "outputs": []
    },
    {
      "cell_type": "code",
      "metadata": {
        "colab": {
          "base_uri": "https://localhost:8080/"
        },
        "id": "saq2-ojO2ver",
        "outputId": "8f755697-b552-4bee-988a-1d0f87377278"
      },
      "source": [
        "#1. Standardization\n",
        "#inbuilt class StandardScaler  use formula Z-score = (Xi-mean of(X))/std(X)\n",
        "from sklearn.preprocessing import StandardScaler\n",
        "\n",
        "#fit_transform on training data X_train and transform on testing_data means X_test :\n",
        "#create object of StandardScaler class\n",
        "ss=StandardScaler()\n",
        "X_train=ss.fit_transform(X_train)\n",
        "X_test=ss.transform(X_test)\n",
        "print(\"After scaling training data : \")\n",
        "print(X_train)\n",
        "print(\"After scaling testing data : \")\n",
        "print(X_test)"
      ],
      "execution_count": 32,
      "outputs": [
        {
          "output_type": "stream",
          "text": [
            "After scaling training data : \n",
            "[[-6.00951494e-01  4.75857931e-01 -9.13459541e-01 ... -1.58432380e-01\n",
            "   1.40809355e-01  8.47326720e-01]\n",
            " [-1.01540737e+00  1.37662471e-03  5.01289237e-01 ... -3.47096934e-02\n",
            "  -3.17935492e-01 -3.34326127e-01]\n",
            " [ 1.05855576e+00  8.13636463e-01 -4.21183942e-01 ...  1.64420197e-01\n",
            "   9.61865725e-02 -2.83183855e-01]\n",
            " ...\n",
            " [ 1.44412925e+00 -4.05713194e-01  6.79661125e-02 ... -4.31456272e-01\n",
            "  -7.63477084e-01 -3.11738290e-01]\n",
            " [-1.28532177e+00 -1.85995336e+00 -2.24705481e+00 ...  7.13858192e-01\n",
            "   2.43573978e+00  2.31734740e+00]\n",
            " [ 1.74668204e+00  7.14552877e-01 -2.64318661e-01 ...  9.70795270e-02\n",
            "   1.01735491e-01 -1.28105570e-01]]\n",
            "After scaling testing data : \n",
            "[[-1.22393049 -0.42732972  0.63970779 ...  0.70397254  0.73229528\n",
            "   0.07454568]\n",
            " [-0.18571851  0.70266925 -0.16701536 ...  0.00464706  0.07559453\n",
            "  -0.12187261]\n",
            " [ 1.49697237  0.81290024 -0.01362438 ... -0.16714782  0.02267313\n",
            "  -0.30023128]\n",
            " ...\n",
            " [ 0.12926796 -0.07183679  0.29495832 ... -0.13049308  0.13487439\n",
            "  -0.26134184]\n",
            " [-0.92332046 -0.07112999  0.60870231 ...  0.56220576  0.3829625\n",
            "  -0.33198211]\n",
            " [-1.27884589 -0.07538782  0.22073921 ...  0.36095461 -0.03015808\n",
            "  -0.29160102]]\n"
          ],
          "name": "stdout"
        }
      ]
    },
    {
      "cell_type": "code",
      "metadata": {
        "id": "lf8Okh1F25So"
      },
      "source": [
        "#function create\n",
        "def create_model(model):\n",
        "    model.fit(X_train,Y_train)#we train the model\n",
        "    Y_pred=model.predict(X_test) #test\n",
        "    print(classification_report(Y_test,Y_pred))\n",
        "    print(\"Confusion Matrix : \")\n",
        "    #Confusion matrix\n",
        "    print(confusion_matrix(Y_test,Y_pred))\n",
        "    return model"
      ],
      "execution_count": 33,
      "outputs": []
    },
    {
      "cell_type": "code",
      "metadata": {
        "id": "lzlaZ8me3DYx"
      },
      "source": [
        "from sklearn.metrics import confusion_matrix\n",
        "from sklearn.metrics import classification_report"
      ],
      "execution_count": 34,
      "outputs": []
    },
    {
      "cell_type": "code",
      "metadata": {
        "id": "urcMlik3wUKA"
      },
      "source": [
        "#Use Logistic Regression algorithm because dataser is classification dataset ,so call \n",
        "#LogisticRegression inbuilt class similar as LinearRegression \n",
        "from sklearn.linear_model import LogisticRegression"
      ],
      "execution_count": 35,
      "outputs": []
    },
    {
      "cell_type": "code",
      "metadata": {
        "id": "mxHAQ1LyroQF"
      },
      "source": [
        "#create object of LogisticRegression similar as LinearRegression\n",
        "lr=LogisticRegression() #here lr user defined object of LogisticRegression class"
      ],
      "execution_count": 36,
      "outputs": []
    },
    {
      "cell_type": "code",
      "metadata": {
        "colab": {
          "base_uri": "https://localhost:8080/"
        },
        "id": "E1hBk85ysIdW",
        "outputId": "9a1cebcc-8fe2-47d9-c91c-dbc7b4fb569f"
      },
      "source": [
        "\n",
        "#we train the model with the help of LogisticRegression , use inbuilt method fit() for train the model\n",
        "#same as Linear regression (70% data)\n",
        "#call function\n",
        "lr=create_model(lr)   "
      ],
      "execution_count": 37,
      "outputs": [
        {
          "output_type": "stream",
          "text": [
            "              precision    recall  f1-score   support\n",
            "\n",
            "           0       1.00      1.00      1.00      4174\n",
            "           1       0.64      0.54      0.58        13\n",
            "\n",
            "    accuracy                           1.00      4187\n",
            "   macro avg       0.82      0.77      0.79      4187\n",
            "weighted avg       1.00      1.00      1.00      4187\n",
            "\n",
            "Confusion Matrix : \n",
            "[[4170    4]\n",
            " [   6    7]]\n"
          ],
          "name": "stdout"
        }
      ]
    },
    {
      "cell_type": "code",
      "metadata": {
        "id": "rhRMyMPN32oA"
      },
      "source": [
        "#check either data is imbalance or not ? \n",
        "#if data Imbalance :then  solve by sampling technique "
      ],
      "execution_count": 38,
      "outputs": []
    },
    {
      "cell_type": "code",
      "metadata": {
        "colab": {
          "base_uri": "https://localhost:8080/"
        },
        "id": "Dwk4sopw4SVY",
        "outputId": "772a7ab8-6664-4eeb-e725-d22ba03f612a"
      },
      "source": [
        "#dataset : yes/no : Churn : target which want to  predicted\n",
        "df[\"Class\"].value_counts()  "
      ],
      "execution_count": 39,
      "outputs": [
        {
          "output_type": "execute_result",
          "data": {
            "text/plain": [
              "0    13898\n",
              "1       56\n",
              "Name: Class, dtype: int64"
            ]
          },
          "metadata": {
            "tags": []
          },
          "execution_count": 39
        }
      ]
    },
    {
      "cell_type": "code",
      "metadata": {
        "id": "ZOYQL7Vx4rz5"
      },
      "source": [
        "from imblearn.under_sampling import RandomUnderSampler\n",
        "from imblearn.over_sampling import RandomOverSampler"
      ],
      "execution_count": 40,
      "outputs": []
    },
    {
      "cell_type": "code",
      "metadata": {
        "id": "ghGJaNe04uE4"
      },
      "source": [
        "#Oversampler\n",
        "#create object of  RandomOverSampler() class\n",
        "ros = RandomOverSampler()"
      ],
      "execution_count": 41,
      "outputs": []
    },
    {
      "cell_type": "code",
      "metadata": {
        "id": "GR5cSS7W43S4"
      },
      "source": [
        "X_sample1,Y_sample1 = ros.fit_resample(X_train,Y_train) #here convert minority class into majority class"
      ],
      "execution_count": 42,
      "outputs": []
    },
    {
      "cell_type": "code",
      "metadata": {
        "colab": {
          "base_uri": "https://localhost:8080/"
        },
        "id": "jGttBP7E45rB",
        "outputId": "18181f04-cd96-4842-89e9-6fcf95c1f985"
      },
      "source": [
        "pd.Series(Y_train).value_counts() #check if not balance "
      ],
      "execution_count": 43,
      "outputs": [
        {
          "output_type": "execute_result",
          "data": {
            "text/plain": [
              "0    9724\n",
              "1      43\n",
              "Name: Class, dtype: int64"
            ]
          },
          "metadata": {
            "tags": []
          },
          "execution_count": 43
        }
      ]
    },
    {
      "cell_type": "code",
      "metadata": {
        "colab": {
          "base_uri": "https://localhost:8080/"
        },
        "id": "EeF2LlVd5H2-",
        "outputId": "9a75deca-d07e-4d8c-bd67-97090431d358"
      },
      "source": [
        "pd.Series(Y_sample1).value_counts()#check if apply randomover sampling means  balance "
      ],
      "execution_count": 44,
      "outputs": [
        {
          "output_type": "execute_result",
          "data": {
            "text/plain": [
              "1    9724\n",
              "0    9724\n",
              "dtype: int64"
            ]
          },
          "metadata": {
            "tags": []
          },
          "execution_count": 44
        }
      ]
    },
    {
      "cell_type": "code",
      "metadata": {
        "id": "90IlZ_u55NvP"
      },
      "source": [
        "#create the object of LogisticRegression class After balance dataset\n",
        "lr1=LogisticRegression()"
      ],
      "execution_count": 45,
      "outputs": []
    },
    {
      "cell_type": "code",
      "metadata": {
        "colab": {
          "base_uri": "https://localhost:8080/"
        },
        "id": "yDl2Qv9q5TNy",
        "outputId": "16a443b4-b948-438d-b7fa-89e496176c58"
      },
      "source": [
        "pd.Series(Y_test).value_counts() #check if not balance  in testing test"
      ],
      "execution_count": 46,
      "outputs": [
        {
          "output_type": "execute_result",
          "data": {
            "text/plain": [
              "0    4174\n",
              "1      13\n",
              "Name: Class, dtype: int64"
            ]
          },
          "metadata": {
            "tags": []
          },
          "execution_count": 46
        }
      ]
    },
    {
      "cell_type": "code",
      "metadata": {
        "id": "lYoQ4BjK5bYJ"
      },
      "source": [
        "X_sample_test1,Y_sample_test1 = ros.fit_resample(X_test,Y_test)"
      ],
      "execution_count": 47,
      "outputs": []
    },
    {
      "cell_type": "code",
      "metadata": {
        "colab": {
          "base_uri": "https://localhost:8080/"
        },
        "id": "Csx6rDJx5f_Z",
        "outputId": "145bbe2f-2f67-4874-86e9-29084eb23845"
      },
      "source": [
        "pd.Series(Y_sample_test1).value_counts()#check if apply randomover sampling means  balance "
      ],
      "execution_count": 48,
      "outputs": [
        {
          "output_type": "execute_result",
          "data": {
            "text/plain": [
              "1    4174\n",
              "0    4174\n",
              "dtype: int64"
            ]
          },
          "metadata": {
            "tags": []
          },
          "execution_count": 48
        }
      ]
    },
    {
      "cell_type": "code",
      "metadata": {
        "id": "wGkEuCg95lDQ"
      },
      "source": [
        "#function create\n",
        "def create_model1(model):\n",
        "    model.fit(X_sample1,Y_sample1)#we train the model\n",
        "    Y_pred=model.predict(X_sample_test1) #test\n",
        "    print(classification_report(Y_sample_test1,Y_pred))\n",
        "    print(\"Confusion Matrix : \")\n",
        "    #Confusion matrix\n",
        "    print(confusion_matrix(Y_sample_test1,Y_pred))\n",
        "    return model"
      ],
      "execution_count": 49,
      "outputs": []
    },
    {
      "cell_type": "code",
      "metadata": {
        "colab": {
          "base_uri": "https://localhost:8080/"
        },
        "id": "cdOxzxN45prQ",
        "outputId": "956b9665-2cdf-47de-fa5a-75020cd3ae43"
      },
      "source": [
        "#call function\n",
        "lr1=create_model1(lr1)  "
      ],
      "execution_count": 50,
      "outputs": [
        {
          "output_type": "stream",
          "text": [
            "              precision    recall  f1-score   support\n",
            "\n",
            "           0       0.72      1.00      0.84      4174\n",
            "           1       1.00      0.62      0.77      4174\n",
            "\n",
            "    accuracy                           0.81      8348\n",
            "   macro avg       0.86      0.81      0.80      8348\n",
            "weighted avg       0.86      0.81      0.80      8348\n",
            "\n",
            "Confusion Matrix : \n",
            "[[4169    5]\n",
            " [1583 2591]]\n"
          ],
          "name": "stdout"
        }
      ]
    },
    {
      "cell_type": "code",
      "metadata": {
        "id": "Xc87lUV_50oP"
      },
      "source": [
        "##Undersampler\n",
        "#create object of  RandomUnderSampler() class\n",
        "rus = RandomUnderSampler()"
      ],
      "execution_count": 51,
      "outputs": []
    },
    {
      "cell_type": "code",
      "metadata": {
        "id": "FLFd6i9-52x6"
      },
      "source": [
        "X_sample2,Y_sample2 = rus.fit_resample(X_train,Y_train) #here convert majority class into minority class"
      ],
      "execution_count": 52,
      "outputs": []
    },
    {
      "cell_type": "code",
      "metadata": {
        "colab": {
          "base_uri": "https://localhost:8080/"
        },
        "id": "gy19v5Q3563A",
        "outputId": "deb53480-b86a-4135-8fa5-59b19b62abcc"
      },
      "source": [
        "pd.Series(Y_train).value_counts() #check if not balance "
      ],
      "execution_count": 53,
      "outputs": [
        {
          "output_type": "execute_result",
          "data": {
            "text/plain": [
              "0    9724\n",
              "1      43\n",
              "Name: Class, dtype: int64"
            ]
          },
          "metadata": {
            "tags": []
          },
          "execution_count": 53
        }
      ]
    },
    {
      "cell_type": "code",
      "metadata": {
        "colab": {
          "base_uri": "https://localhost:8080/"
        },
        "id": "spBDllyj8c7I",
        "outputId": "d726768f-37c7-4b9e-9453-cbb33f1f0fde"
      },
      "source": [
        "pd.Series(Y_sample2).value_counts()#check if apply randomover sampling means  balance "
      ],
      "execution_count": 54,
      "outputs": [
        {
          "output_type": "execute_result",
          "data": {
            "text/plain": [
              "1    43\n",
              "0    43\n",
              "dtype: int64"
            ]
          },
          "metadata": {
            "tags": []
          },
          "execution_count": 54
        }
      ]
    },
    {
      "cell_type": "code",
      "metadata": {
        "colab": {
          "base_uri": "https://localhost:8080/"
        },
        "id": "UEQekOxT8q_g",
        "outputId": "c94caf80-b1f2-4fb1-809b-71fa1e893340"
      },
      "source": [
        "pd.Series(Y_test).value_counts() #check if not balance  in testing test"
      ],
      "execution_count": 55,
      "outputs": [
        {
          "output_type": "execute_result",
          "data": {
            "text/plain": [
              "0    4174\n",
              "1      13\n",
              "Name: Class, dtype: int64"
            ]
          },
          "metadata": {
            "tags": []
          },
          "execution_count": 55
        }
      ]
    },
    {
      "cell_type": "code",
      "metadata": {
        "id": "XZLaoWRc8wx2"
      },
      "source": [
        "X_sample_test2,Y_sample_test2 = rus.fit_resample(X_test,Y_test)"
      ],
      "execution_count": 56,
      "outputs": []
    },
    {
      "cell_type": "code",
      "metadata": {
        "colab": {
          "base_uri": "https://localhost:8080/"
        },
        "id": "a5p23_p582QO",
        "outputId": "6c024ba8-d5c2-4c33-e45b-31f1a02d7417"
      },
      "source": [
        "pd.Series(Y_sample_test2).value_counts()#check if apply randomunder sampling means  balance "
      ],
      "execution_count": 57,
      "outputs": [
        {
          "output_type": "execute_result",
          "data": {
            "text/plain": [
              "1    13\n",
              "0    13\n",
              "dtype: int64"
            ]
          },
          "metadata": {
            "tags": []
          },
          "execution_count": 57
        }
      ]
    },
    {
      "cell_type": "code",
      "metadata": {
        "id": "N94hBv6S9FHI"
      },
      "source": [
        "#function create\n",
        "def create_model2(model):\n",
        "    model.fit(X_sample2,Y_sample2)#we train the model\n",
        "    Y_pred=model.predict(X_sample_test2) #test\n",
        "    print(classification_report(Y_sample_test2,Y_pred))\n",
        "    print(\"Confusion Matrix : \")\n",
        "    #Confusion matrix\n",
        "    print(confusion_matrix(Y_sample_test2,Y_pred))\n",
        "    return model"
      ],
      "execution_count": 58,
      "outputs": []
    },
    {
      "cell_type": "code",
      "metadata": {
        "id": "rl1BBzwS9HCX"
      },
      "source": [
        "#create the object of LogisticRegression class After balance dataset\n",
        "lr2=LogisticRegression()"
      ],
      "execution_count": 59,
      "outputs": []
    },
    {
      "cell_type": "code",
      "metadata": {
        "colab": {
          "base_uri": "https://localhost:8080/"
        },
        "id": "99FrWlSr9OGH",
        "outputId": "940b9159-75ea-4f34-d5be-80a1d768bcc0"
      },
      "source": [
        "#call function\n",
        "lr2=create_model2(lr2)  "
      ],
      "execution_count": 60,
      "outputs": [
        {
          "output_type": "stream",
          "text": [
            "              precision    recall  f1-score   support\n",
            "\n",
            "           0       0.72      1.00      0.84        13\n",
            "           1       1.00      0.62      0.76        13\n",
            "\n",
            "    accuracy                           0.81        26\n",
            "   macro avg       0.86      0.81      0.80        26\n",
            "weighted avg       0.86      0.81      0.80        26\n",
            "\n",
            "Confusion Matrix : \n",
            "[[13  0]\n",
            " [ 5  8]]\n"
          ],
          "name": "stdout"
        }
      ]
    },
    {
      "cell_type": "code",
      "metadata": {
        "id": "KIBRS17594Qt"
      },
      "source": [
        "#call decisiontreeclassifier class\n",
        "from sklearn.tree import DecisionTreeClassifier  #DecisionTreeClassifier inbuilt class"
      ],
      "execution_count": 61,
      "outputs": []
    },
    {
      "cell_type": "code",
      "metadata": {
        "id": "Ge8YzWJG-T3-"
      },
      "source": [
        "#create object of DecisionTreeClassifier class\n",
        "dt1=DecisionTreeClassifier() #by default Gini index method "
      ],
      "execution_count": 62,
      "outputs": []
    },
    {
      "cell_type": "code",
      "metadata": {
        "colab": {
          "base_uri": "https://localhost:8080/"
        },
        "id": "Oq1jGEd9-Yu9",
        "outputId": "642e3df9-3d4f-4c59-9ea8-a3a3a590e804"
      },
      "source": [
        "#call function  (train and test with decisiontree)\n",
        "dt1=create_model(dt1)"
      ],
      "execution_count": 63,
      "outputs": [
        {
          "output_type": "stream",
          "text": [
            "              precision    recall  f1-score   support\n",
            "\n",
            "           0       1.00      1.00      1.00      4174\n",
            "           1       0.90      0.69      0.78        13\n",
            "\n",
            "    accuracy                           1.00      4187\n",
            "   macro avg       0.95      0.85      0.89      4187\n",
            "weighted avg       1.00      1.00      1.00      4187\n",
            "\n",
            "Confusion Matrix : \n",
            "[[4173    1]\n",
            " [   4    9]]\n"
          ],
          "name": "stdout"
        }
      ]
    },
    {
      "cell_type": "code",
      "metadata": {
        "id": "YMVYoWjD_D4e"
      },
      "source": [
        "#2nd purning technique : min_samples_leaf\n",
        "##create object of DecisionTreeClassifier class\n",
        "dt2=DecisionTreeClassifier(min_samples_leaf=50) #by default Gini index method \n",
        "#min_samples_leaf =50 or more means not less than=50\n"
      ],
      "execution_count": 64,
      "outputs": []
    },
    {
      "cell_type": "code",
      "metadata": {
        "colab": {
          "base_uri": "https://localhost:8080/"
        },
        "id": "wQBQKHUS_Hd-",
        "outputId": "75a5871a-ffa8-48e2-e8a0-e6e41cf5b50f"
      },
      "source": [
        "#call function (model train and test)\n",
        "dt2=create_model(dt2)"
      ],
      "execution_count": 65,
      "outputs": [
        {
          "output_type": "stream",
          "text": [
            "              precision    recall  f1-score   support\n",
            "\n",
            "           0       1.00      1.00      1.00      4174\n",
            "           1       0.50      0.69      0.58        13\n",
            "\n",
            "    accuracy                           1.00      4187\n",
            "   macro avg       0.75      0.85      0.79      4187\n",
            "weighted avg       1.00      1.00      1.00      4187\n",
            "\n",
            "Confusion Matrix : \n",
            "[[4165    9]\n",
            " [   4    9]]\n"
          ],
          "name": "stdout"
        }
      ]
    },
    {
      "cell_type": "code",
      "metadata": {
        "colab": {
          "base_uri": "https://localhost:8080/"
        },
        "id": "LAgQV_TW_t79",
        "outputId": "02641df0-86dc-4bf8-863a-c4b2e59dbd3b"
      },
      "source": [
        "dt2.feature_importances_"
      ],
      "execution_count": 66,
      "outputs": [
        {
          "output_type": "execute_result",
          "data": {
            "text/plain": [
              "array([0.        , 0.        , 0.        , 0.        , 0.        ,\n",
              "       0.        , 0.        , 0.        , 0.        , 0.        ,\n",
              "       0.        , 0.        , 0.99752967, 0.        , 0.00247033,\n",
              "       0.        , 0.        , 0.        , 0.        , 0.        ,\n",
              "       0.        , 0.        , 0.        , 0.        , 0.        ,\n",
              "       0.        , 0.        , 0.        , 0.        , 0.        ])"
            ]
          },
          "metadata": {
            "tags": []
          },
          "execution_count": 66
        }
      ]
    },
    {
      "cell_type": "code",
      "metadata": {
        "colab": {
          "base_uri": "https://localhost:8080/"
        },
        "id": "lqDBzbZ5_5t2",
        "outputId": "8976d925-f98e-4996-e9f8-0d5f60630cea"
      },
      "source": [
        "np.round(dt2.feature_importances_,2)"
      ],
      "execution_count": 67,
      "outputs": [
        {
          "output_type": "execute_result",
          "data": {
            "text/plain": [
              "array([0., 0., 0., 0., 0., 0., 0., 0., 0., 0., 0., 0., 1., 0., 0., 0., 0.,\n",
              "       0., 0., 0., 0., 0., 0., 0., 0., 0., 0., 0., 0., 0.])"
            ]
          },
          "metadata": {
            "tags": []
          },
          "execution_count": 67
        }
      ]
    },
    {
      "cell_type": "code",
      "metadata": {
        "colab": {
          "base_uri": "https://localhost:8080/"
        },
        "id": "zHJ9KSTu_-aE",
        "outputId": "5a0927f2-14dd-4974-cab1-0202f2c8841e"
      },
      "source": [
        "X.columns"
      ],
      "execution_count": 68,
      "outputs": [
        {
          "output_type": "execute_result",
          "data": {
            "text/plain": [
              "Index(['Time', 'V1', 'V2', 'V3', 'V4', 'V5', 'V6', 'V7', 'V8', 'V9', 'V10',\n",
              "       'V11', 'V12', 'V13', 'V14', 'V15', 'V16', 'V17', 'V18', 'V19', 'V20',\n",
              "       'V21', 'V22', 'V23', 'V24', 'V25', 'V26', 'V27', 'V28', 'Amount'],\n",
              "      dtype='object')"
            ]
          },
          "metadata": {
            "tags": []
          },
          "execution_count": 68
        }
      ]
    },
    {
      "cell_type": "code",
      "metadata": {
        "id": "dGQrVdmdAL80"
      },
      "source": [
        "#use entropy method of decisiontree means -P(yes)*log2P(yes)-P(No)log2(P(no))\n",
        "\n",
        "##create object of DecisionTreeClassifier class\n",
        "dt3=DecisionTreeClassifier(criterion='entropy',min_samples_leaf=50) "
      ],
      "execution_count": 69,
      "outputs": []
    },
    {
      "cell_type": "code",
      "metadata": {
        "colab": {
          "base_uri": "https://localhost:8080/"
        },
        "id": "w5PCuYfFAslg",
        "outputId": "6bbd8d5c-6b4a-48e5-8aa0-7883182f219d"
      },
      "source": [
        "#call function (model train and test)\n",
        "dt3=create_model(dt3)"
      ],
      "execution_count": 70,
      "outputs": [
        {
          "output_type": "stream",
          "text": [
            "              precision    recall  f1-score   support\n",
            "\n",
            "           0       1.00      1.00      1.00      4174\n",
            "           1       0.43      0.69      0.53        13\n",
            "\n",
            "    accuracy                           1.00      4187\n",
            "   macro avg       0.71      0.84      0.76      4187\n",
            "weighted avg       1.00      1.00      1.00      4187\n",
            "\n",
            "Confusion Matrix : \n",
            "[[4162   12]\n",
            " [   4    9]]\n"
          ],
          "name": "stdout"
        }
      ]
    },
    {
      "cell_type": "code",
      "metadata": {
        "id": "2Ysxg7OfDbrF"
      },
      "source": [
        "#in this dataset , better result got in LogisticRegression class After balance dataset and also clear we have #recall .93 means 93 predict"
      ],
      "execution_count": 71,
      "outputs": []
    },
    {
      "cell_type": "code",
      "metadata": {
        "id": "bPEuVL_vnAEt"
      },
      "source": [
        "#Apply feature selection technique \n",
        "#Use ANOVA Test means analysis of variance \n",
        "from sklearn.feature_selection import f_regression #f_regression inbuilt class for anova test\n",
        "#We use f_regression class as a parameter\n",
        "\n",
        "from sklearn.feature_selection import SelectKBest"
      ],
      "execution_count": 74,
      "outputs": []
    },
    {
      "cell_type": "code",
      "metadata": {
        "id": "VLYovlWFpke-"
      },
      "source": [
        "#Create object of SelectKBest class and pass f_regression class as a parameter for ANOVA test\n",
        "anova=SelectKBest(score_func=f_regression,k=6) #here k is a parameter which select max imp input\n",
        "#features\n",
        "#anova is a user defined object "
      ],
      "execution_count": 75,
      "outputs": []
    },
    {
      "cell_type": "code",
      "metadata": {
        "id": "Cnf5xQUuprrb"
      },
      "source": [
        "X_train_anova=anova.fit_transform(X_train,Y_train) \n",
        "#formula of f-score/f-test/f-statistics =variance between group/variance within group"
      ],
      "execution_count": 76,
      "outputs": []
    },
    {
      "cell_type": "code",
      "metadata": {
        "id": "LNdeNpeSp0az"
      },
      "source": [
        "X_test_anova=anova.transform(X_test) #30% testing input"
      ],
      "execution_count": 77,
      "outputs": []
    },
    {
      "cell_type": "code",
      "metadata": {
        "colab": {
          "base_uri": "https://localhost:8080/"
        },
        "id": "WTK1oIF1p43c",
        "outputId": "88655ca6-0ab9-402f-8533-d1f94c753485"
      },
      "source": [
        "#to show inpo features from dataframe  : use inbuilt method get_support() of SelectKBest class\n",
        "#return answer in boolean means TRUE/FALSE\n",
        "anova.get_support() "
      ],
      "execution_count": 78,
      "outputs": [
        {
          "output_type": "execute_result",
          "data": {
            "text/plain": [
              "array([False, False, False,  True, False, False, False, False, False,\n",
              "       False,  True, False,  True, False,  True, False,  True,  True,\n",
              "       False, False, False, False, False, False, False, False, False,\n",
              "       False, False, False])"
            ]
          },
          "metadata": {
            "tags": []
          },
          "execution_count": 78
        }
      ]
    },
    {
      "cell_type": "code",
      "metadata": {
        "colab": {
          "base_uri": "https://localhost:8080/"
        },
        "id": "XFThMkfWp_Ol",
        "outputId": "46df6791-ad56-41d0-8e3f-75c927f13768"
      },
      "source": [
        "X.columns"
      ],
      "execution_count": 79,
      "outputs": [
        {
          "output_type": "execute_result",
          "data": {
            "text/plain": [
              "Index(['Time', 'V1', 'V2', 'V3', 'V4', 'V5', 'V6', 'V7', 'V8', 'V9', 'V10',\n",
              "       'V11', 'V12', 'V13', 'V14', 'V15', 'V16', 'V17', 'V18', 'V19', 'V20',\n",
              "       'V21', 'V22', 'V23', 'V24', 'V25', 'V26', 'V27', 'V28', 'Amount'],\n",
              "      dtype='object')"
            ]
          },
          "metadata": {
            "tags": []
          },
          "execution_count": 79
        }
      ]
    },
    {
      "cell_type": "code",
      "metadata": {
        "id": "geXDg09RqJQI"
      },
      "source": [
        "#create the object of LogisticRegression class After balance dataset\n",
        "lr3=LogisticRegression()"
      ],
      "execution_count": 80,
      "outputs": []
    },
    {
      "cell_type": "code",
      "metadata": {
        "colab": {
          "base_uri": "https://localhost:8080/"
        },
        "id": "49NgXeAdqiZF",
        "outputId": "e0ecef23-fdfd-4d64-88e9-6105159c951b"
      },
      "source": [
        "#train the model with 70% data  with imp features\n",
        "#Training\n",
        "lr3.fit(X_train_anova,Y_train) "
      ],
      "execution_count": 82,
      "outputs": [
        {
          "output_type": "execute_result",
          "data": {
            "text/plain": [
              "LogisticRegression(C=1.0, class_weight=None, dual=False, fit_intercept=True,\n",
              "                   intercept_scaling=1, l1_ratio=None, max_iter=100,\n",
              "                   multi_class='auto', n_jobs=None, penalty='l2',\n",
              "                   random_state=None, solver='lbfgs', tol=0.0001, verbose=0,\n",
              "                   warm_start=False)"
            ]
          },
          "metadata": {
            "tags": []
          },
          "execution_count": 82
        }
      ]
    },
    {
      "cell_type": "code",
      "metadata": {
        "colab": {
          "base_uri": "https://localhost:8080/"
        },
        "id": "GuBuMwIIq6Tu",
        "outputId": "53b9e3df-1f9c-448a-cdf9-ddfb5ac2da3f"
      },
      "source": [
        "#To check score of model (testing the model with 30% input and output)\n",
        "lr3.score(X_test_anova,Y_test) #similar to r2_score"
      ],
      "execution_count": 84,
      "outputs": [
        {
          "output_type": "execute_result",
          "data": {
            "text/plain": [
              "0.9968951516598997"
            ]
          },
          "metadata": {
            "tags": []
          },
          "execution_count": 84
        }
      ]
    },
    {
      "cell_type": "code",
      "metadata": {
        "colab": {
          "base_uri": "https://localhost:8080/"
        },
        "id": "yG0LndQhsdxp",
        "outputId": "e9a43826-c6b4-4861-bf0e-c7b6631bd3cd"
      },
      "source": [
        "#Apply CHI-Square test : -   chi-2 test : - It is a feature selection technique \n",
        "#It is the third type of Filter method\n",
        "\n",
        "'''Note : - Chi-2 test does not work from -ve value means chi-2 test will not apply on \n",
        "-ve value .'''\n",
        "#we have dataset\n",
        "X.columns"
      ],
      "execution_count": 85,
      "outputs": [
        {
          "output_type": "execute_result",
          "data": {
            "text/plain": [
              "Index(['Time', 'V1', 'V2', 'V3', 'V4', 'V5', 'V6', 'V7', 'V8', 'V9', 'V10',\n",
              "       'V11', 'V12', 'V13', 'V14', 'V15', 'V16', 'V17', 'V18', 'V19', 'V20',\n",
              "       'V21', 'V22', 'V23', 'V24', 'V25', 'V26', 'V27', 'V28', 'Amount'],\n",
              "      dtype='object')"
            ]
          },
          "metadata": {
            "tags": []
          },
          "execution_count": 85
        }
      ]
    },
    {
      "cell_type": "code",
      "metadata": {
        "colab": {
          "base_uri": "https://localhost:8080/"
        },
        "id": "XCOG2AUCsgM3",
        "outputId": "30e83420-923a-4eec-ae1e-604188dd87eb"
      },
      "source": [
        "for col in X:\n",
        "    print(\"Column Name : \",col)\n",
        "    print(df[col].unique())"
      ],
      "execution_count": 87,
      "outputs": [
        {
          "output_type": "stream",
          "text": [
            "Column Name :  Time\n",
            "[    0     1     2 ... 24754 24756 24759]\n",
            "Column Name :  V1\n",
            "[-1.35980713  1.19185711 -1.35835406 ... -6.05365212  1.16912114\n",
            " -6.91715153]\n",
            "Column Name :  V2\n",
            "[-0.07278117  0.26615071 -1.34016307 ... -5.98872327 -1.28494482\n",
            "  5.85417136]\n",
            "Column Name :  V3\n",
            "[ 2.53634674  0.16648011  1.77320934 ...  0.8104126   0.03271657\n",
            " -1.6524583 ]\n",
            "Column Name :  V4\n",
            "[ 1.37815522  0.44815408  0.37977959 ... -0.0118107  -0.68166963\n",
            " -1.4888841 ]\n",
            "Column Name :  V5\n",
            "[-0.33832077  0.06001765 -0.50319813 ...  1.30813509  0.66059751\n",
            " -0.83389118]\n",
            "Column Name :  V6\n",
            "[ 0.46238778 -0.08236081  1.80049938 ... -0.59080289  4.41257774\n",
            " -0.34441833]\n",
            "Column Name :  V7\n",
            "[ 0.23959855 -0.07880298  0.79146096 ... -0.72583782 -1.91311541\n",
            "  0.3937886 ]\n",
            "Column Name :  V8\n",
            "[ 0.0986979   0.08510165  0.24767579 ... -0.23483967  1.07659216\n",
            "  0.37996828]\n",
            "Column Name :  V9\n",
            "[ 0.36378697 -0.25542513 -1.51465432 ...  1.62464594  1.50123006\n",
            "  6.13359739]\n",
            "Column Name :  V10\n",
            "[ 0.09079417 -0.16697441  0.20764287 ...  0.816619    0.08968411\n",
            "  8.06326051]\n",
            "Column Name :  V11\n",
            "[-0.55159953  1.61272666  0.62450146 ...  2.55742702 -0.0850813\n",
            "  3.0744049 ]\n",
            "Column Name :  V12\n",
            "[-0.61780086  1.06523531  0.06608369 ... -2.4806786  -2.39261909\n",
            " -1.82254876]\n",
            "Column Name :  V13\n",
            "[-0.99138985  0.48909502  0.71729273 ...  1.75741498  1.87750233\n",
            "  1.63700825]\n",
            "Column Name :  V14\n",
            "[-0.31116935 -0.1437723  -0.16594592 ...  0.30783538  0.64343262\n",
            " -1.01071487]\n",
            "Column Name :  V15\n",
            "[ 1.46817697  0.63555809  2.34586495 ... -0.66735986 -1.20672829\n",
            "  0.23168217]\n",
            "Column Name :  V16\n",
            "[-0.47040053  0.46391704 -2.89008319 ...  1.42454248 -1.26225551\n",
            " -0.34948853]\n",
            "Column Name :  V17\n",
            "[ 0.20797124 -0.11480466  1.10996938 ...  0.71735785  0.56329457\n",
            "  0.2620644 ]\n",
            "Column Name :  V18\n",
            "[ 0.02579058 -0.18336127 -0.12135931 ... -1.32394418  1.84520414\n",
            " -0.18873698]\n",
            "Column Name :  V19\n",
            "[ 0.40399296 -0.14578304 -2.2618571  ... -0.09194263 -0.47171805\n",
            " -1.00872325]\n",
            "Column Name :  V20\n",
            "[ 0.2514121  -0.06908314  0.52497973 ... -2.98237885 -0.26504133\n",
            "  3.46916289]\n",
            "Column Name :  V21\n",
            "[-0.01830678 -0.22577525  0.24799815 ... -0.77196983 -0.55759593\n",
            " -1.40468101]\n",
            "Column Name :  V22\n",
            "[ 0.27783758 -0.63867195  0.7716794  ...  1.47466766 -0.88243508\n",
            " -1.12469425]\n",
            "Column Name :  V23\n",
            "[-0.11047391  0.10128802  0.90941226 ...  3.17636269 -0.04152301\n",
            "  0.17433328]\n",
            "Column Name :  V24\n",
            "[ 0.06692807 -0.33984648 -0.68928096 ... -0.30241021  0.97544518\n",
            " -0.52823361]\n",
            "Column Name :  V25\n",
            "[ 0.12853936  0.1671704  -0.32764183 ...  0.05252892  0.2972289\n",
            "  0.99068464]\n",
            "Column Name :  V26\n",
            "[-0.18911484  0.12589453 -0.13909657 ... -0.37387134  0.55051499\n",
            " -0.03587495]\n",
            "Column Name :  V27\n",
            "[ 0.13355838 -0.0089831  -0.05535279 ... -0.70046318  0.01502947\n",
            "  1.07137355]\n",
            "Column Name :  V28\n",
            "[-0.02105305  0.01472417 -0.05975184 ...  2.5084431   0.03206698\n",
            " -0.16883093]\n",
            "Column Name :  Amount\n",
            "[1.4962000e+02 2.6900000e+00 3.7866000e+02 ... 2.3350000e+01 7.9420000e+02\n",
            " 4.0134738e-03]\n"
          ],
          "name": "stdout"
        }
      ]
    },
    {
      "cell_type": "code",
      "metadata": {
        "id": "_bCMWaYRvDVD"
      },
      "source": [
        "#If apply CHI-2 Test on dataset\n",
        "from sklearn.feature_selection import chi2\n",
        "#Create object of SelectKBest class and pass chi-2 class as a parameter for CHI-2 test\n",
        "chi=SelectKBest(score_func=chi2,k=10) #here k is a parameter which select max imp input\n",
        "#features\n",
        "#chi is a user defined object "
      ],
      "execution_count": 88,
      "outputs": []
    },
    {
      "cell_type": "code",
      "metadata": {
        "colab": {
          "base_uri": "https://localhost:8080/"
        },
        "id": "naGRPauyvdPr",
        "outputId": "7f836e00-cc4d-47aa-fcd1-35a8cc32972e"
      },
      "source": [
        "#1. forward selection wrapper method : -is a very simple technique\n",
        "#we create the model first and then we add the input features \n",
        "#we create a empty list for columns \n",
        "columns=[]\n",
        "for col in X:\n",
        "    columns.append(col)\n",
        "    #print(columns)\n",
        "    X_new=df[columns]\n",
        "    #Train_test_split\n",
        "    X_train,X_test,Y_train,Y_test = train_test_split(X_new,Y,test_size=0.3,random_state=1)\n",
        "    #Create the object of LogisticRegression\n",
        "    lr3=LogisticRegression()\n",
        "    #train the model with 70% data\n",
        "    lr3.fit(X_train,Y_train)\n",
        "    #find the score\n",
        "    score=lr3.score(X_test,Y_test)\n",
        "    print(\"Column Name : \",col ,\"score : \",score)"
      ],
      "execution_count": 93,
      "outputs": [
        {
          "output_type": "stream",
          "text": [
            "Column Name :  Time score :  0.9968951516598997\n",
            "Column Name :  V1 score :  0.9968951516598997\n",
            "Column Name :  V2 score :  0.9968951516598997\n",
            "Column Name :  V3 score :  0.9971339861475997\n",
            "Column Name :  V4 score :  0.9980893240983998\n",
            "Column Name :  V5 score :  0.9980893240983998\n",
            "Column Name :  V6 score :  0.9978504896106998\n",
            "Column Name :  V7 score :  0.9980893240983998\n",
            "Column Name :  V8 score :  0.9964174826844996\n",
            "Column Name :  V9 score :  0.9973728206352998\n",
            "Column Name :  V10 score :  0.9964174826844996\n",
            "Column Name :  V11 score :  0.9966563171721997\n",
            "Column Name :  V12 score :  0.9971339861475997\n",
            "Column Name :  V13 score :  0.9973728206352998\n",
            "Column Name :  V14 score :  0.9980893240983998\n",
            "Column Name :  V15 score :  0.9980893240983998\n",
            "Column Name :  V16 score :  0.9980893240983998\n",
            "Column Name :  V17 score :  0.9980893240983998\n",
            "Column Name :  V18 score :  0.9980893240983998\n",
            "Column Name :  V19 score :  0.9980893240983998\n",
            "Column Name :  V20 score :  0.9980893240983998\n",
            "Column Name :  V21 score :  0.9980893240983998\n",
            "Column Name :  V22 score :  0.9980893240983998\n",
            "Column Name :  V23 score :  0.9980893240983998\n",
            "Column Name :  V24 score :  0.9980893240983998\n",
            "Column Name :  V25 score :  0.9980893240983998\n",
            "Column Name :  V26 score :  0.9980893240983998\n",
            "Column Name :  V27 score :  0.9980893240983998\n",
            "Column Name :  V28 score :  0.9980893240983998\n",
            "Column Name :  Amount score :  0.9978504896106998\n"
          ],
          "name": "stdout"
        }
      ]
    },
    {
      "cell_type": "code",
      "metadata": {
        "id": "-n8Q14ytz_7f"
      },
      "source": [
        "#in this dataset , better result got in ANOVA test  and with r2_scoreclass  is 99 predict"
      ],
      "execution_count": null,
      "outputs": []
    }
  ]
}